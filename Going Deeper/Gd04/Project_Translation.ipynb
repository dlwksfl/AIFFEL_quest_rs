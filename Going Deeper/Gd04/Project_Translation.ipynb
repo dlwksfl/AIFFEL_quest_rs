{
 "cells": [
  {
   "cell_type": "markdown",
   "metadata": {},
   "source": [
    "## 라이브러리"
   ]
  },
  {
   "cell_type": "code",
   "execution_count": 1,
   "metadata": {},
   "outputs": [
    {
     "name": "stderr",
     "output_type": "stream",
     "text": [
      "/Library/Frameworks/Python.framework/Versions/3.10/lib/python3.10/site-packages/torchtext/vocab/__init__.py:4: UserWarning: \n",
      "/!\\ IMPORTANT WARNING ABOUT TORCHTEXT STATUS /!\\ \n",
      "Torchtext is deprecated and the last released version will be 0.18 (this one). You can silence this warning by calling the following at the beginnign of your scripts: `import torchtext; torchtext.disable_torchtext_deprecation_warning()`\n",
      "  warnings.warn(torchtext._TORCHTEXT_DEPRECATION_MSG)\n",
      "/Library/Frameworks/Python.framework/Versions/3.10/lib/python3.10/site-packages/torchtext/utils.py:4: UserWarning: \n",
      "/!\\ IMPORTANT WARNING ABOUT TORCHTEXT STATUS /!\\ \n",
      "Torchtext is deprecated and the last released version will be 0.18 (this one). You can silence this warning by calling the following at the beginnign of your scripts: `import torchtext; torchtext.disable_torchtext_deprecation_warning()`\n",
      "  warnings.warn(torchtext._TORCHTEXT_DEPRECATION_MSG)\n"
     ]
    }
   ],
   "source": [
    "import re\n",
    "import pandas as pd\n",
    "from tqdm import tqdm\n",
    "from pathlib import Path\n",
    "from collections import Counter\n",
    "import sentencepiece as spm\n",
    "from kiwipiepy import Kiwi  \n",
    "from konlpy.tag import Okt\n",
    "import torch\n",
    "import torch.nn as nn\n",
    "import torch.optim as optim\n",
    "import torch.nn.functional as F\n",
    "from torch.utils.data import Dataset, DataLoader  \n",
    "import numpy as np\n",
    "import matplotlib.pyplot as plt\n",
    "import matplotlib.ticker as ticker\n",
    "import seaborn as sns\n",
    "import random\n",
    "import nltk\n",
    "from nltk.translate.bleu_score import sentence_bleu\n",
    "import os\n",
    "from collections import Counter\n",
    "from torchtext.vocab import vocab\n",
    "from torch.nn.utils.rnn import pad_sequence\n",
    "import torchtext\n",
    "import seaborn as sns\n",
    "from torchtext.vocab import Vocab\n",
    "from collections import OrderedDict\n",
    "from torchtext.vocab import build_vocab_from_iterator\n"
   ]
  },
  {
   "cell_type": "markdown",
   "metadata": {},
   "source": [
    "## 데이터 불러오기"
   ]
  },
  {
   "cell_type": "code",
   "execution_count": 3,
   "metadata": {},
   "outputs": [],
   "source": [
    "# 데이터 파일 경로 설정\n",
    "data_dir = Path(\"/Users/jian_lee/Desktop/aiffel/data/s2s_translation\")\n",
    "\n",
    "train_ko_path = data_dir / \"korean-english-park.train/korean-english-park.train.ko\"\n",
    "train_en_path = data_dir / \"korean-english-park.train/korean-english-park.train.en\"\n",
    "\n",
    "test_ko_path = data_dir / \"korean-english-park.test/korean-english-park.test.ko\"\n",
    "test_en_path = data_dir / \"korean-english-park.test/korean-english-park.test.en\"\n",
    "\n",
    "dev_ko_path = data_dir / \"korean-english-park.dev/korean-english-park.dev.ko\"\n",
    "dev_en_path = data_dir / \"korean-english-park.dev/korean-english-park.dev.en\""
   ]
  },
  {
   "cell_type": "code",
   "execution_count": 4,
   "metadata": {},
   "outputs": [
    {
     "name": "stdout",
     "output_type": "stream",
     "text": [
      "Korean Sentences Count: 94123\n",
      "English Sentences Count: 94123\n"
     ]
    }
   ],
   "source": [
    "# 한-영 병렬 데이터 로드 함수\n",
    "def load_data(ko_path, en_path):\n",
    "    \"\"\"파일에서 한-영 병렬 데이터를 불러옵니다.\"\"\"\n",
    "    with open(ko_path, \"r\", encoding=\"utf-8\") as f:\n",
    "        kor_lines = f.readlines()\n",
    "    with open(en_path, \"r\", encoding=\"utf-8\") as f:\n",
    "        eng_lines = f.readlines()\n",
    "    \n",
    "    return [k.strip() for k in kor_lines], [e.strip() for e in eng_lines]\n",
    "\n",
    "# 데이터 로드\n",
    "kor_sentences, eng_sentences = load_data(train_ko_path, train_en_path)\n",
    "\n",
    "# 데이터 개수 확인\n",
    "print(f\"Korean Sentences Count: {len(kor_sentences)}\")\n",
    "print(f\"English Sentences Count: {len(eng_sentences)}\")"
   ]
  },
  {
   "cell_type": "markdown",
   "metadata": {},
   "source": [
    "## 텍스트 정제"
   ]
  },
  {
   "cell_type": "code",
   "execution_count": 5,
   "metadata": {},
   "outputs": [
    {
     "name": "stdout",
     "output_type": "stream",
     "text": [
      "Filtered Sentences: 78941\n"
     ]
    }
   ],
   "source": [
    "# Kiwi 형태소 분석기 초기화\n",
    "kiwi = Kiwi()\n",
    "\n",
    "# 텍스트 정제 함수\n",
    "def clean_text(text, lang=\"ko\", correct_spacing=False):\n",
    "    \"\"\"한글과 영어에 맞는 정규 표현식을 사용하여 텍스트 정제\"\"\"\n",
    "    text = text.lower().strip()  # 대소문자 변환 및 공백 제거\n",
    "\n",
    "    if lang == \"ko\":\n",
    "        text = re.sub(r\"[^\\uAC00-\\uD7A3a-zA-Z0-9.,!?\\s]\", \"\", text)  # 한글, 영어, 숫자, 기본 구두점만 허용\n",
    "        text = re.sub(r\"\\s+\", \" \", text)  # 다중 공백 제거\n",
    "        if correct_spacing:\n",
    "            text = kiwi.space(text)  # 띄어쓰기 보정 (kiwipiepy 활용)\n",
    "    else:\n",
    "        text = re.sub(r\"[^a-zA-Z0-9.,!?\\s]\", \"\", text)  # 영어, 숫자, 기본 구두점만 허용\n",
    "        text = re.sub(r\"\\s+\", \" \", text)  # 다중 공백 제거\n",
    "\n",
    "    return text.strip()\n",
    "\n",
    "# 데이터 정제 및 중복 제거\n",
    "def preprocess_data(kor_sentences, eng_sentences, correct_spacing=True):\n",
    "    \"\"\"중복을 제거하고 전처리를 수행 (대소문자 변환, 공백 정리, 띄어쓰기 보정 포함)\"\"\"\n",
    "    paired_data = set(zip(kor_sentences, eng_sentences))  # 중복 제거\n",
    "    cleaned_corpus = [(clean_text(k, \"ko\", correct_spacing), clean_text(e, \"en\")) for k, e in paired_data]\n",
    "    return cleaned_corpus\n",
    "\n",
    "cleaned_corpus = preprocess_data(kor_sentences, eng_sentences)\n",
    "\n",
    "# 데이터 개수 확인\n",
    "print(f\"Filtered Sentences: {len(cleaned_corpus)}\")"
   ]
  },
  {
   "cell_type": "markdown",
   "metadata": {},
   "source": [
    "## 토큰화 및 단어 사전 생성"
   ]
  },
  {
   "cell_type": "code",
   "execution_count": 6,
   "metadata": {},
   "outputs": [
    {
     "name": "stdout",
     "output_type": "stream",
     "text": [
      "Korean Vocab Size: 10000\n",
      "English Vocab Size: 10000\n",
      "Index of '<pad>': 0\n",
      "Index of '<unk>': 1\n",
      "Index of '<start>': 2\n",
      "Index of '<end>': 3\n"
     ]
    }
   ],
   "source": [
    "def yield_tokens(corpus):\n",
    "    for sentence in corpus:\n",
    "        yield sentence.split()\n",
    "\n",
    "def build_vocab(corpus, vocab_size=20000, min_freq=1):\n",
    "    \"\"\"\n",
    "    PyTorch 기반의 Vocab 생성 함수 (torchtext 최신 버전 대응)\n",
    "    - corpus: 토큰화된 문장 리스트\n",
    "    - vocab_size: 단어 집합 크기\n",
    "    - min_freq: 최소 등장 빈도 (이 값보다 적게 등장하는 단어는 제외)\n",
    "    \"\"\"\n",
    "    specials = [\"<pad>\", \"<unk>\", \"<start>\", \"<end>\"]\n",
    "    # build_vocab_from_iterator를 사용하여 단어 사전 생성\n",
    "    vocab = build_vocab_from_iterator(\n",
    "        yield_tokens(corpus),\n",
    "        specials=specials,\n",
    "        max_tokens=vocab_size,\n",
    "        min_freq=min_freq\n",
    "    )\n",
    "    # <unk> 토큰의 인덱스를 기본값으로 설정\n",
    "    vocab.set_default_index(vocab[\"<unk>\"])\n",
    "    \n",
    "    return vocab\n",
    "\n",
    "# 단어 사전 생성\n",
    "kor_vocab = build_vocab(kor_sentences, vocab_size=10000, min_freq=1)\n",
    "eng_vocab = build_vocab(eng_sentences, vocab_size=10000, min_freq=1)\n",
    "\n",
    "# 단어 사전 크기 확인\n",
    "print(f\"Korean Vocab Size: {len(kor_vocab)}\")\n",
    "print(f\"English Vocab Size: {len(eng_vocab)}\")\n",
    "\n",
    "# 단어 ID 확인\n",
    "print(f\"Index of '<pad>': {kor_vocab['<pad>']}\")\n",
    "print(f\"Index of '<unk>': {kor_vocab['<unk>']}\")\n",
    "print(f\"Index of '<start>': {kor_vocab['<start>']}\")\n",
    "print(f\"Index of '<end>': {kor_vocab['<end>']}\")"
   ]
  },
  {
   "cell_type": "markdown",
   "metadata": {},
   "source": [
    "##  토큰화된 데이터를 PyTorch 텐서로 변환 및 패딩 적용"
   ]
  },
  {
   "cell_type": "code",
   "execution_count": 7,
   "metadata": {},
   "outputs": [
    {
     "name": "stdout",
     "output_type": "stream",
     "text": [
      "Korean Tensor Shape: torch.Size([94123, 40])\n",
      "English Tensor Shape: torch.Size([94123, 40])\n"
     ]
    }
   ],
   "source": [
    "# 토큰화 및 패딩 적용 함수\n",
    "def tokenize_and_pad(corpus, vocab_obj, max_len=40):\n",
    "    sequences = [\n",
    "        [vocab_obj[\"<start>\"]] +\n",
    "        [vocab_obj[word] if word in vocab_obj else vocab_obj[\"<unk>\"] for word in sentence.split()] +\n",
    "        [vocab_obj[\"<end>\"]]\n",
    "        for sentence in corpus\n",
    "    ]\n",
    "\n",
    "    sequences = [torch.tensor(seq[:max_len], dtype=torch.long) for seq in sequences]\n",
    "    sequences = pad_sequence(sequences, batch_first=True, padding_value=vocab_obj[\"<pad>\"])\n",
    "\n",
    "    return sequences\n",
    "\n",
    "# 토큰화 및 패딩 적용\n",
    "kor_tensor = tokenize_and_pad(kor_sentences, kor_vocab, max_len=40)\n",
    "eng_tensor = tokenize_and_pad(eng_sentences, eng_vocab, max_len=40)\n",
    "\n",
    "# 데이터 형태 출력\n",
    "print(f\"Korean Tensor Shape: {kor_tensor.shape}\")\n",
    "print(f\"English Tensor Shape: {eng_tensor.shape}\")"
   ]
  },
  {
   "cell_type": "markdown",
   "metadata": {},
   "source": [
    "##  전처리된 데이터 랜덤 샘플 확인"
   ]
  },
  {
   "cell_type": "code",
   "execution_count": 8,
   "metadata": {},
   "outputs": [
    {
     "name": "stdout",
     "output_type": "stream",
     "text": [
      "\n",
      "🔹 전처리된 데이터 샘플 확인 (랜덤 선택) 🔹\n",
      "\n",
      "Sample 1\n",
      " Tokenized Korean: 오랫동안 후세인 대통령에 반기를 들었던 한 보수 시아파 그룹으로 이란에 본부를 둔 이라크 이슬람 혁명 최고 위원회 런던 대표인 하미드 알-바야티씨는 이라크가 그런 과거에도 불구하고 결국에는 자기가 세계적인 추세라고 여기는 쪽으로 가게 될 것이라고 믿고있다.\n",
      " Tokenized English: Hamid al-Bayati, London representative of the Iran-based Supreme Council for the Islamic Revolution in Iraq, a conservative Shiite group long opposed to Saddam, believes that despite its past, Iraq will eventually fall in line with what he sees as a global trend.\n",
      "--------------------------------------------------\n",
      "Sample 2\n",
      " Tokenized Korean: 중국의 위안화 평가절상으로 인해 원화가치가 5개월 만에 급상승했지만 한국 수출주는 가격경쟁력 상실에 대한 우려로 하락세를 보였다.\n",
      " Tokenized English: China's currency revaluation propelled the won to its biggest advance in five months yesterday but Korean exporters fell on the stock market on fears they will lose their price competitiveness.\n",
      "--------------------------------------------------\n",
      "Sample 3\n",
      " Tokenized Korean: 경찰 고위 간부인 수리아 다르마 국장은 두자니에 대해 “매우 위험하면서도 영리한 인물”이라고 설명했다.\n",
      " Tokenized English: Gen Surya Dharma, a senior police official, told CNN in March that Abu Dujana is \"a very dangerous and clever man. \"\n",
      "--------------------------------------------------\n",
      "Sample 4\n",
      " Tokenized Korean: 미국 조지아주 마리에타에 사는 예술가인 매르겐슨은 ‘엘리(El-E)’라는 이름의 건강 관리로봇이 일부 간단한 집안일을 도울 수 있도록 조정하는 방법을 배우고 있다.\n",
      " Tokenized English: Margeson, an artist from Marietta, Georgia, is learning how a health care robot dubbed El-E (pronounced \"Ellie\") can help her accomplish some simple household tasks.\n",
      "--------------------------------------------------\n",
      "Sample 5\n",
      " Tokenized Korean: 수잔 보일 데뷔 음반 예약주문 1...\n",
      " Tokenized English: Susan Boyle's debut CD sets Ama...\n",
      "--------------------------------------------------\n"
     ]
    }
   ],
   "source": [
    "def show_random_samples(kor_corpus, eng_corpus, num_samples=5):\n",
    "    indices = random.sample(range(len(kor_corpus)), min(num_samples, len(kor_corpus)))\n",
    "\n",
    "    print(\"\\n🔹 전처리된 데이터 샘플 확인 (랜덤 선택) 🔹\\n\")\n",
    "    for i, idx in enumerate(indices):\n",
    "        print(f\"Sample {i+1}\")\n",
    "        print(f\" Tokenized Korean: {kor_corpus[idx]}\")\n",
    "        print(f\" Tokenized English: {eng_corpus[idx]}\")\n",
    "        print(\"-\" * 50)\n",
    "\n",
    "# 전처리된 샘플 데이터 확인\n",
    "show_random_samples(kor_sentences, eng_sentences, num_samples=5)"
   ]
  },
  {
   "cell_type": "markdown",
   "metadata": {},
   "source": [
    "## 모델 설계"
   ]
  },
  {
   "cell_type": "code",
   "execution_count": 9,
   "metadata": {},
   "outputs": [],
   "source": [
    "class Encoder(nn.Module):\n",
    "    def __init__(self, vocab_size, embedding_dim, hidden_size, dropout_rate=0.3):\n",
    "        super(Encoder, self).__init__()\n",
    "        self.hidden_size = hidden_size\n",
    "        self.embedding = nn.Embedding(vocab_size, embedding_dim)\n",
    "        self.gru = nn.GRU(embedding_dim, hidden_size, batch_first=True)\n",
    "        self.dropout = nn.Dropout(dropout_rate)\n",
    "\n",
    "    def forward(self, x):\n",
    "        embedded = self.dropout(self.embedding(x))\n",
    "        output, hidden = self.gru(embedded)\n",
    "        return output, hidden\n",
    "\n",
    "\n",
    "class BahdanauAttention(nn.Module):\n",
    "    def __init__(self, hidden_size):\n",
    "        super(BahdanauAttention, self).__init__()\n",
    "        self.W_enc = nn.Linear(hidden_size, hidden_size)\n",
    "        self.W_dec = nn.Linear(hidden_size, hidden_size)\n",
    "        self.V = nn.Linear(hidden_size, 1)\n",
    "\n",
    "    def forward(self, h_enc, h_dec):\n",
    "        h_dec = h_dec.unsqueeze(1)  # (batch, 1, hidden_size)\n",
    "        score = self.V(torch.tanh(self.W_dec(h_dec) + self.W_enc(h_enc))).squeeze(2)\n",
    "        attn_weights = F.softmax(score, dim=1)\n",
    "        context_vector = torch.sum(attn_weights.unsqueeze(2) * h_enc, dim=1)\n",
    "        return context_vector, attn_weights\n",
    "\n",
    "\n",
    "class Decoder(nn.Module):\n",
    "    def __init__(self, vocab_size, embedding_dim, hidden_size, dropout_rate=0.3):\n",
    "        super(Decoder, self).__init__()\n",
    "        self.hidden_size = hidden_size\n",
    "        self.embedding = nn.Embedding(vocab_size, embedding_dim)\n",
    "        self.gru = nn.GRU(hidden_size + embedding_dim, hidden_size, batch_first=True)\n",
    "        self.fc = nn.Linear(hidden_size, vocab_size)\n",
    "        self.attention = BahdanauAttention(hidden_size)\n",
    "        self.dropout = nn.Dropout(dropout_rate)\n",
    "\n",
    "    def forward(self, x, hidden, enc_out):\n",
    "        context_vector, attn_weights = self.attention(enc_out, hidden[-1])\n",
    "        x = self.dropout(self.embedding(x))\n",
    "        x = torch.cat([context_vector.unsqueeze(1), x], dim=-1)\n",
    "        output, hidden = self.gru(x, hidden)\n",
    "        output = self.fc(output.squeeze(1))\n",
    "        return output, hidden, attn_weights\n",
    "\n",
    "\n",
    "# ✅ 하이퍼파라미터 설정\n",
    "embedding_dim = 512\n",
    "hidden_size = 1024\n",
    "vocab_size = 10000  # 단어 사전 크기 (임의 설정)\n",
    "batch_size = 64\n",
    "num_epochs = 10\n",
    "\n",
    "# ✅ 모델 초기화 (Apple Silicon GPU로 이동)\n",
    "encoder = Encoder(vocab_size, embedding_dim, hidden_size).to(device)\n",
    "decoder = Decoder(vocab_size, embedding_dim, hidden_size).to(device)\n",
    "\n",
    "# ✅ Optimizer & Loss 설정\n",
    "optimizer = optim.Adam(list(encoder.parameters()) + list(decoder.parameters()), lr=0.001)\n",
    "criterion = nn.CrossEntropyLoss(ignore_index=0)  # 패딩 토큰 무시"
   ]
  },
  {
   "cell_type": "markdown",
   "metadata": {},
   "source": [
    "## 모델 학습 & 시각화"
   ]
  },
  {
   "cell_type": "code",
   "execution_count": 14,
   "metadata": {},
   "outputs": [
    {
     "name": "stdout",
     "output_type": "stream",
     "text": [
      " Using device: mps\n"
     ]
    }
   ],
   "source": [
    "# Mac GPU (MPS) 활성화\n",
    "device = torch.device(\"mps\" if torch.backends.mps.is_available() else \"cpu\")\n",
    "print(f\" Using device: {device}\")\n",
    "\n",
    "def train_step(src, tgt, encoder, decoder, optimizer, criterion, teacher_forcing_ratio=0.5):\n",
    "    \"\"\"\n",
    "    PyTorch 기반 학습 단계 (한 배치 학습)\n",
    "    - teacher forcing을 적용하여 일정 확률로 실제 정답을 디코더 입력으로 사용\n",
    "    \"\"\"\n",
    "    optimizer.zero_grad()\n",
    "    src, tgt = src.to(device), tgt.to(device)\n",
    "    \n",
    "    enc_out, enc_hidden = encoder(src)\n",
    "    dec_hidden = enc_hidden\n",
    "\n",
    "    # '<start>' 토큰 인덱스 가져오기\n",
    "    start_token_idx = eng_vocab.get_stoi()[\"<start>\"]\n",
    "    dec_input = torch.full((tgt.shape[0], 1), start_token_idx, dtype=torch.long).to(device)\n",
    "\n",
    "    loss = 0\n",
    "    use_teacher_forcing = random.random() < teacher_forcing_ratio\n",
    "\n",
    "    for t in range(1, tgt.shape[1]):\n",
    "        predictions, dec_hidden, _ = decoder(dec_input, dec_hidden, enc_out)\n",
    "        \n",
    "        loss += criterion(predictions, tgt[:, t])\n",
    "\n",
    "        # Teacher Forcing 여부에 따라 다음 입력 결정\n",
    "        if use_teacher_forcing:\n",
    "            dec_input = tgt[:, t].unsqueeze(1)  # 실제 정답을 다음 입력으로\n",
    "        else:\n",
    "            dec_input = predictions.argmax(dim=1, keepdim=True)  # 예측값을 다음 입력으로\n",
    "\n",
    "    loss.backward()\n",
    "\n",
    "    # ✅ MPS에서는 clip_grad_norm_이 NaN을 유발할 수 있어 조정 필요\n",
    "    torch.nn.utils.clip_grad_norm_(list(encoder.parameters()) + list(decoder.parameters()), max_norm=1)\n",
    "\n",
    "    optimizer.step()\n",
    "\n",
    "    return loss.item() / tgt.shape[1]"
   ]
  },
  {
   "cell_type": "code",
   "execution_count": 15,
   "metadata": {},
   "outputs": [
    {
     "name": "stderr",
     "output_type": "stream",
     "text": [
      "  0%|          | 0/1471 [00:00<?, ?it/s]/var/folders/hc/bq30j1bj47s2zv8mz3y8yh040000gn/T/ipykernel_32692/823388512.py:16: UserWarning: To copy construct from a tensor, it is recommended to use sourceTensor.clone().detach() or sourceTensor.clone().detach().requires_grad_(True), rather than torch.tensor(sourceTensor).\n",
      "  torch.tensor(kor_tensor[idx:idx + BATCH_SIZE], dtype=torch.long).to(device),\n",
      "/var/folders/hc/bq30j1bj47s2zv8mz3y8yh040000gn/T/ipykernel_32692/823388512.py:17: UserWarning: To copy construct from a tensor, it is recommended to use sourceTensor.clone().detach() or sourceTensor.clone().detach().requires_grad_(True), rather than torch.tensor(sourceTensor).\n",
      "  torch.tensor(eng_tensor[idx:idx + BATCH_SIZE], dtype=torch.long).to(device),\n",
      "Epoch 1: 100%|██████████| 1471/1471 [15:21<00:00,  1.60it/s, Loss 5.6161]\n",
      "Epoch 2: 100%|██████████| 1471/1471 [15:12<00:00,  1.61it/s, Loss 4.9818]\n",
      "Epoch 3: 100%|██████████| 1471/1471 [15:11<00:00,  1.61it/s, Loss 4.6488]\n",
      "Epoch 4: 100%|██████████| 1471/1471 [15:12<00:00,  1.61it/s, Loss 4.4178]\n",
      "Epoch 5: 100%|██████████| 1471/1471 [15:14<00:00,  1.61it/s, Loss 4.2303]\n",
      "Epoch 6: 100%|██████████| 1471/1471 [15:10<00:00,  1.62it/s, Loss 4.1138]\n",
      "Epoch 7: 100%|██████████| 1471/1471 [15:09<00:00,  1.62it/s, Loss 4.0824]\n",
      "Epoch 8: 100%|██████████| 1471/1471 [15:10<00:00,  1.62it/s, Loss 4.0051]\n",
      "Epoch 9: 100%|██████████| 1471/1471 [15:11<00:00,  1.61it/s, Loss 3.9583]\n",
      "Epoch 10: 100%|██████████| 1471/1471 [15:12<00:00,  1.61it/s, Loss 3.9019]"
     ]
    },
    {
     "name": "stdout",
     "output_type": "stream",
     "text": [
      "\n",
      "✅ Training Completed!\n"
     ]
    },
    {
     "name": "stderr",
     "output_type": "stream",
     "text": [
      "\n"
     ]
    }
   ],
   "source": [
    "# 배치 크기 설정\n",
    "BATCH_SIZE = 64  \n",
    "EPOCHS = 10  # 학습 반복 횟수\n",
    "train_losses = []  # 학습 과정에서 Loss를 저장할 리스트\n",
    "\n",
    "# Training Loop\n",
    "for epoch in range(EPOCHS):\n",
    "    total_loss = 0\n",
    "    idx_list = list(range(0, kor_tensor.shape[0], BATCH_SIZE))\n",
    "    random.shuffle(idx_list)\n",
    "    t = tqdm(idx_list)\n",
    "\n",
    "    for batch, idx in enumerate(t):\n",
    "        # ✅ MPS에서는 to(\"mps\")로 GPU 이동 필요\n",
    "        batch_loss = train_step(\n",
    "            torch.tensor(kor_tensor[idx:idx + BATCH_SIZE], dtype=torch.long).to(device),\n",
    "            torch.tensor(eng_tensor[idx:idx + BATCH_SIZE], dtype=torch.long).to(device),\n",
    "            encoder.to(device), decoder.to(device), optimizer, criterion\n",
    "        )\n",
    "        total_loss += batch_loss\n",
    "\n",
    "        t.set_description_str(f'Epoch {epoch + 1}')\n",
    "        t.set_postfix_str(f'Loss {total_loss / (batch + 1):.4f}')\n",
    "    \n",
    "    # Epoch마다 평균 Loss 저장\n",
    "    train_losses.append(total_loss / (batch + 1))\n",
    "\n",
    "# 학습 완료 후 train_losses 저장\n",
    "print(\"\\n✅ Training Completed!\")"
   ]
  },
  {
   "cell_type": "code",
   "execution_count": 16,
   "metadata": {},
   "outputs": [
    {
     "data": {
      "image/png": "[encoded data removed]",
      "text/plain": [
       "<Figure size 800x500 with 1 Axes>"
      ]
     },
     "metadata": {},
     "output_type": "display_data"
    }
   ],
   "source": [
    "def plot_train_loss(train_losses):\n",
    "    \"\"\"\n",
    "    Train Loss를 시각화하는 함수\n",
    "    \"\"\"\n",
    "    plt.figure(figsize=(8, 5))\n",
    "    plt.plot(range(1, len(train_losses) + 1), train_losses, marker='o', linestyle='-', color='b', label='Train Loss')\n",
    "    plt.xlabel(\"Epochs\")\n",
    "    plt.ylabel(\"Loss\")\n",
    "    plt.title(\"Training Loss per Epoch\")\n",
    "    plt.legend()\n",
    "    plt.grid(True)\n",
    "    plt.show()\n",
    "\n",
    "# ✅ Loss 시각화 실행 (훈련 완료 후 실행)\n",
    "plot_train_loss(train_losses)"
   ]
  },
  {
   "cell_type": "markdown",
   "metadata": {},
   "source": [
    "---"
   ]
  },
  {
   "cell_type": "markdown",
   "metadata": {},
   "source": [
    "## 회고"
   ]
  },
  {
   "cell_type": "markdown",
   "metadata": {},
   "source": [
    "- 학습 후 테스트 및 히트맵을 그려보지 못한게 아쉬움으로 남습니다.\n",
    "\n",
    "- 모델 학습이 되었으나 loss 값이 높은 걸 확인했습니다. 원인을 좀 더 찾아보고자 합니다.\n",
    "\n",
    "- 데이터 전처리를 조금 더 다양한 방법을 활용해 반영해보고자 합니다."
   ]
  }
 ],
 "metadata": {
  "kernelspec": {
   "display_name": "Python 3",
   "language": "python",
   "name": "python3"
  },
  "language_info": {
   "codemirror_mode": {
    "name": "ipython",
    "version": 3
   },
   "file_extension": ".py",
   "mimetype": "text/x-python",
   "name": "python",
   "nbconvert_exporter": "python",
   "pygments_lexer": "ipython3",
   "version": "3.10.11"
  }
 },
 "nbformat": 4,
 "nbformat_minor": 2
}
