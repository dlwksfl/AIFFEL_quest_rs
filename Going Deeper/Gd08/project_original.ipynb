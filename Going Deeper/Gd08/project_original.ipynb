{
 "cells": [
  {
   "cell_type": "code",
   "execution_count": 13,
   "metadata": {},
   "outputs": [],
   "source": [
    "import pandas as pd\n",
    "import numpy as np\n",
    "import matplotlib.pyplot as plt\n",
    "import seaborn as sns\n",
    "import os\n",
    "import torch\n",
    "import torch.nn as nn\n",
    "import torch.optim as optim\n",
    "from torch.utils.data import Dataset, DataLoader\n",
    "from sklearn.model_selection import train_test_split\n",
    "from transformers import AutoTokenizer, AutoModelForSequenceClassification, AdamW, get_scheduler\n",
    "from transformers import AutoTokenizer\n",
    "from tqdm import tqdm"
   ]
  },
  {
   "cell_type": "markdown",
   "metadata": {},
   "source": [
    "## klue/bert-base model 및 tokenizer 불러오기"
   ]
  },
  {
   "cell_type": "code",
   "execution_count": 14,
   "metadata": {},
   "outputs": [],
   "source": [
    "# ==========================================\n",
    "# 1. 데이터 로드 및 변환\n",
    "# ==========================================\n",
    "\n",
    "# 파일 경로 설정\n",
    "train_file_path = \"/Users/jian_lee/Desktop/aiffel/data/HuggingFace/ratings_train.txt\"\n",
    "test_file_path = \"/Users/jian_lee/Desktop/aiffel/data/HuggingFace/ratings_test.txt\"\n",
    "\n",
    "# 데이터 불러오기\n",
    "train_df = pd.read_csv(train_file_path, delimiter='\\t', keep_default_na=False)\n",
    "test_df = pd.read_csv(test_file_path, delimiter='\\t', keep_default_na=False)\n",
    "\n",
    "# DataFrame을 Python 딕셔너리로 변환\n",
    "train_dict = {\n",
    "    \"id\": train_df[\"id\"].tolist(),\n",
    "    \"text\": train_df[\"document\"].tolist(),\n",
    "    \"label\": train_df[\"label\"].tolist(),\n",
    "}\n",
    "\n",
    "test_dict = {\n",
    "    \"id\": test_df[\"id\"].tolist(),\n",
    "    \"text\": test_df[\"document\"].tolist(),\n",
    "    \"label\": test_df[\"label\"].tolist(),\n",
    "}"
   ]
  },
  {
   "cell_type": "code",
   "execution_count": 15,
   "metadata": {},
   "outputs": [
    {
     "name": "stderr",
     "output_type": "stream",
     "text": [
      "Some weights of BertForSequenceClassification were not initialized from the model checkpoint at klue/bert-base and are newly initialized: ['classifier.bias', 'classifier.weight']\n",
      "You should probably TRAIN this model on a down-stream task to be able to use it for predictions and inference.\n"
     ]
    }
   ],
   "source": [
    "# ==========================================\n",
    "# 2. 모델과 토크나이저 불러오기\n",
    "# ==========================================\n",
    "\n",
    "# 사용할 모델 이름 지정 (KLUE BERT Base 모델)\n",
    "MODEL_NAME = \"klue/bert-base\"\n",
    "\n",
    "# 사전 학습된 KLUE BERT 토크나이저 로드\n",
    "tokenizer = AutoTokenizer.from_pretrained(MODEL_NAME)\n",
    "\n",
    "# 사전 학습된 KLUE BERT 모델 로드\n",
    "# num_labels=2 → 감성 분석(긍정/부정) 이진 분류를 위해 출력 레이블을 2개로 설정\n",
    "model = AutoModelForSequenceClassification.from_pretrained(MODEL_NAME, num_labels=2)"
   ]
  },
  {
   "cell_type": "code",
   "execution_count": 16,
   "metadata": {},
   "outputs": [],
   "source": [
    "# ==========================================\n",
    "# 3. 커스텀 데이터셋 클래스 정의\n",
    "# ==========================================\n",
    "\n",
    "class NSMCDataset(Dataset):\n",
    "    \"\"\"\n",
    "    NSMC 감성 분석 데이터셋을 PyTorch Dataset 형식으로 변환하는 클래스.\n",
    "    \"\"\"\n",
    "    def __init__(self, data_dict, tokenizer, max_length=128):\n",
    "        \"\"\"\n",
    "        데이터셋 초기화 함수.\n",
    "\n",
    "        Args:\n",
    "            data_dict (dict): {\"text\": 텍스트 리스트, \"label\": 레이블 리스트}\n",
    "            tokenizer: KLUE BERT 토크나이저\n",
    "            max_length (int): 최대 시퀀스 길이 (기본값: 128)\n",
    "        \"\"\"\n",
    "        self.texts = data_dict[\"text\"]   # 텍스트 데이터 리스트\n",
    "        self.labels = data_dict[\"label\"] # 라벨 (0: 부정, 1: 긍정)\n",
    "        self.tokenizer = tokenizer       # 토크나이저 설정\n",
    "        self.max_length = max_length     # 최대 길이 설정\n",
    "\n",
    "    def __len__(self):\n",
    "        \"\"\"\n",
    "        데이터셋의 총 샘플 개수를 반환.\n",
    "\n",
    "        Returns:\n",
    "            int: 데이터셋 크기\n",
    "        \"\"\"\n",
    "        return len(self.texts)\n",
    "\n",
    "    def __getitem__(self, idx):\n",
    "        \"\"\"\n",
    "        인덱스(idx)에 해당하는 샘플을 반환.\n",
    "\n",
    "        Args:\n",
    "            idx (int): 데이터 인덱스\n",
    "        \n",
    "        Returns:\n",
    "            dict: 모델 입력을 위한 input_ids, attention_mask, label\n",
    "        \"\"\"\n",
    "        encoding = self.tokenizer(\n",
    "            self.texts[idx], \n",
    "            padding=\"max_length\",  # 고정된 길이로 패딩\n",
    "            truncation=True,       # 초과 길이 자르기\n",
    "            max_length=self.max_length,  # 최대 길이 설정\n",
    "            return_tensors=\"pt\"    # PyTorch 텐서 반환\n",
    "        )\n",
    "\n",
    "        return {\n",
    "            \"input_ids\": encoding[\"input_ids\"].squeeze(0),  # 차원 축소 (batch 차원 제거)\n",
    "            \"attention_mask\": encoding[\"attention_mask\"].squeeze(0),  # attention mask\n",
    "            \"label\": torch.tensor(self.labels[idx], dtype=torch.long)  # 레이블을 PyTorch 텐서로 변환\n",
    "        }"
   ]
  },
  {
   "cell_type": "code",
   "execution_count": 17,
   "metadata": {},
   "outputs": [],
   "source": [
    "# ==========================================\n",
    "# 4. 훈련 및 테스트 데이터셋 생성\n",
    "# ==========================================\n",
    "\n",
    "# NSMC 데이터셋을 커스텀 PyTorch Dataset 클래스로 변환\n",
    "train_dataset = NSMCDataset(train_dict, tokenizer)\n",
    "test_dataset = NSMCDataset(test_dict, tokenizer)"
   ]
  },
  {
   "cell_type": "code",
   "execution_count": 18,
   "metadata": {},
   "outputs": [],
   "source": [
    "# ==========================================\n",
    "# 5. DataLoader 설정\n",
    "# ==========================================\n",
    "\n",
    "# DataLoader를 생성하여 배치 단위로 데이터 로딩\n",
    "# shuffle=True → 데이터 순서를 랜덤으로 섞음 (훈련 데이터용)\n",
    "train_loader = DataLoader(train_dataset, batch_size=16, shuffle=True)\n",
    "# shuffle=False → 순차적으로 데이터 로딩 (테스트 데이터용)\n",
    "test_loader = DataLoader(test_dataset, batch_size=16, shuffle=False)"
   ]
  },
  {
   "cell_type": "code",
   "execution_count": 19,
   "metadata": {},
   "outputs": [
    {
     "name": "stdout",
     "output_type": "stream",
     "text": [
      "Using device: mps\n"
     ]
    }
   ],
   "source": [
    "# ==========================================\n",
    "# 6. 모델을 실행할 디바이스 설정 (MPS 지원 추가)\n",
    "# ==========================================\n",
    "\n",
    "# Mac MPS 지원을 확인하고, 가능한 경우 GPU 사용\n",
    "if torch.backends.mps.is_available():\n",
    "    device = torch.device(\"mps\")  # Mac의 GPU (Apple Silicon)\n",
    "elif torch.cuda.is_available():\n",
    "    device = torch.device(\"cuda\")  # NVIDIA GPU 사용 가능할 때\n",
    "else:\n",
    "    device = torch.device(\"cpu\")  # GPU 사용 불가능할 때 CPU로 실행\n",
    "\n",
    "# 모델을 해당 디바이스로 이동\n",
    "model.to(device)\n",
    "\n",
    "# 현재 사용 중인 디바이스 출력\n",
    "print(f\"Using device: {device}\")"
   ]
  },
  {
   "cell_type": "code",
   "execution_count": 20,
   "metadata": {},
   "outputs": [
    {
     "name": "stdout",
     "output_type": "stream",
     "text": [
      "{'input_ids': tensor([[    2,  5401,  2259,  ...,     0,     0,     0],\n",
      "        [    2, 24637,  2337,  ...,     0,     0,     0],\n",
      "        [    2,  1453,    97,  ...,     0,     0,     0],\n",
      "        ...,\n",
      "        [    2,  7478,  2318,  ...,     0,     0,     0],\n",
      "        [    2,  1443,    18,  ...,     0,     0,     0],\n",
      "        [    2,  5736,  2079,  ...,     0,     0,     0]]), 'attention_mask': tensor([[1, 1, 1,  ..., 0, 0, 0],\n",
      "        [1, 1, 1,  ..., 0, 0, 0],\n",
      "        [1, 1, 1,  ..., 0, 0, 0],\n",
      "        ...,\n",
      "        [1, 1, 1,  ..., 0, 0, 0],\n",
      "        [1, 1, 1,  ..., 0, 0, 0],\n",
      "        [1, 1, 1,  ..., 0, 0, 0]]), 'label': tensor([0, 0, 0, 1, 1, 0, 1, 1, 1, 0, 1, 0, 0, 1, 0, 1])}\n"
     ]
    }
   ],
   "source": [
    "# ==========================================\n",
    "# 7. DataLoader를 사용한 샘플 배치 확인\n",
    "# ==========================================\n",
    "\n",
    "# 훈련 데이터에서 첫 번째 배치를 가져와 출력\n",
    "for batch in train_loader:\n",
    "    print(batch)  # 'input_ids', 'attention_mask', 'label'이 포함됨\n",
    "    break  # 첫 번째 배치만 확인"
   ]
  },
  {
   "cell_type": "markdown",
   "metadata": {},
   "source": [
    "## 모델 학습"
   ]
  },
  {
   "cell_type": "code",
   "execution_count": 21,
   "metadata": {},
   "outputs": [],
   "source": [
    "# ==========================================\n",
    "# 1. 데이터 로드 및 변환\n",
    "# ==========================================\n",
    "\n",
    "# 🔥 수정: train_test_split() 사용하여 DataFrame 유지\n",
    "train_df, val_df = train_test_split(train_df, test_size=0.2, random_state=42)\n",
    "\n",
    "# 사용할 모델 이름 지정 (KLUE BERT Base 모델)\n",
    "MODEL_NAME = \"klue/bert-base\"\n",
    "\n",
    "# 사전 학습된 KLUE BERT 토크나이저 로드\n",
    "tokenizer = AutoTokenizer.from_pretrained(MODEL_NAME)"
   ]
  },
  {
   "cell_type": "code",
   "execution_count": 22,
   "metadata": {},
   "outputs": [],
   "source": [
    "# ==========================================\n",
    "# 2. 데이터 전처리 및 토큰화\n",
    "# ==========================================\n",
    "\n",
    "class NSMCDataset(Dataset):\n",
    "    \"\"\"\n",
    "    NSMC 감성 분석 데이터셋을 PyTorch Dataset 형식으로 변환하는 클래스.\n",
    "    \"\"\"\n",
    "    def __init__(self, dataset, tokenizer, max_length=128):\n",
    "        \"\"\"\n",
    "        데이터셋 초기화 함수.\n",
    "\n",
    "        Args:\n",
    "            dataset (DataFrame): 데이터셋 (train/val)\n",
    "            tokenizer: KLUE BERT 토크나이저\n",
    "            max_length (int): 최대 시퀀스 길이 (기본값: 128)\n",
    "        \"\"\"\n",
    "        self.texts = dataset[\"document\"].tolist()\n",
    "        self.labels = dataset[\"label\"].tolist()\n",
    "        self.tokenizer = tokenizer\n",
    "        self.max_length = max_length\n",
    "\n",
    "    def __len__(self):\n",
    "        return len(self.texts)\n",
    "\n",
    "    def __getitem__(self, idx):\n",
    "        encoding = self.tokenizer(\n",
    "            self.texts[idx], \n",
    "            padding=\"max_length\",\n",
    "            truncation=True,\n",
    "            max_length=self.max_length,\n",
    "            return_tensors=\"pt\"\n",
    "        )\n",
    "\n",
    "        return {\n",
    "            \"input_ids\": encoding[\"input_ids\"].squeeze(0),\n",
    "            \"attention_mask\": encoding[\"attention_mask\"].squeeze(0),\n",
    "            \"label\": torch.tensor(self.labels[idx], dtype=torch.long)\n",
    "        }\n",
    "\n",
    "# Train/Validation 데이터셋 변환\n",
    "train_dataset = NSMCDataset(train_df, tokenizer)\n",
    "val_dataset = NSMCDataset(val_df, tokenizer)\n",
    "\n",
    "# DataLoader 설정\n",
    "train_loader = DataLoader(train_dataset, batch_size=16, shuffle=True)\n",
    "val_loader = DataLoader(val_dataset, batch_size=16, shuffle=False)"
   ]
  },
  {
   "cell_type": "code",
   "execution_count": 23,
   "metadata": {},
   "outputs": [
    {
     "name": "stderr",
     "output_type": "stream",
     "text": [
      "Some weights of BertForSequenceClassification were not initialized from the model checkpoint at klue/bert-base and are newly initialized: ['classifier.bias', 'classifier.weight']\n",
      "You should probably TRAIN this model on a down-stream task to be able to use it for predictions and inference.\n",
      "/Library/Frameworks/Python.framework/Versions/3.10/lib/python3.10/site-packages/transformers/optimization.py:591: FutureWarning: This implementation of AdamW is deprecated and will be removed in a future version. Use the PyTorch implementation torch.optim.AdamW instead, or set `no_deprecation_warning=True` to disable this warning\n",
      "  warnings.warn(\n"
     ]
    }
   ],
   "source": [
    "# ==========================================\n",
    "# 3. 모델 및 학습 설정\n",
    "# ==========================================\n",
    "\n",
    "# KLUE BERT 모델 로드\n",
    "model = AutoModelForSequenceClassification.from_pretrained(MODEL_NAME, num_labels=2)\n",
    "\n",
    "# GPU 설정 (Mac MPS 지원 포함)\n",
    "if torch.backends.mps.is_available():\n",
    "    device = torch.device(\"mps\")\n",
    "elif torch.cuda.is_available():\n",
    "    device = torch.device(\"cuda\")\n",
    "else:\n",
    "    device = torch.device(\"cpu\")\n",
    "\n",
    "model.to(device)\n",
    "\n",
    "# 옵티마이저 및 손실 함수 설정\n",
    "optimizer = AdamW(model.parameters(), lr=5e-5)\n",
    "\n",
    "# 스케줄러 설정 (학습률 감소)\n",
    "num_training_steps = len(train_loader) * 3  # 3 epochs\n",
    "lr_scheduler = get_scheduler(\"linear\", optimizer=optimizer, num_warmup_steps=0, num_training_steps=num_training_steps)\n",
    "\n",
    "# 손실 함수 정의\n",
    "criterion = torch.nn.CrossEntropyLoss()"
   ]
  },
  {
   "cell_type": "code",
   "execution_count": 24,
   "metadata": {},
   "outputs": [
    {
     "name": "stderr",
     "output_type": "stream",
     "text": [
      "huggingface/tokenizers: The current process just got forked, after parallelism has already been used. Disabling parallelism to avoid deadlocks...\n",
      "To disable this warning, you can either:\n",
      "\t- Avoid using `tokenizers` before the fork if possible\n",
      "\t- Explicitly set the environment variable TOKENIZERS_PARALLELISM=(true | false)\n"
     ]
    },
    {
     "name": "stdout",
     "output_type": "stream",
     "text": [
      "\n",
      "Epoch 1/3\n"
     ]
    },
    {
     "name": "stderr",
     "output_type": "stream",
     "text": [
      "100%|██████████| 7500/7500 [1:06:54<00:00,  1.87it/s]\n"
     ]
    },
    {
     "name": "stdout",
     "output_type": "stream",
     "text": [
      "Training Loss: 0.2913\n",
      "Validation Loss: 0.2547\n",
      "Validation Accuracy: 89.40%\n",
      "\n",
      "Epoch 2/3\n"
     ]
    },
    {
     "name": "stderr",
     "output_type": "stream",
     "text": [
      "100%|██████████| 7500/7500 [58:04<00:00,  2.15it/s]\n"
     ]
    },
    {
     "name": "stdout",
     "output_type": "stream",
     "text": [
      "Training Loss: 0.1783\n",
      "Validation Loss: 0.2482\n",
      "Validation Accuracy: 90.15%\n",
      "\n",
      "Epoch 3/3\n"
     ]
    },
    {
     "name": "stderr",
     "output_type": "stream",
     "text": [
      "100%|██████████| 7500/7500 [57:55<00:00,  2.16it/s]\n"
     ]
    },
    {
     "name": "stdout",
     "output_type": "stream",
     "text": [
      "Training Loss: 0.0828\n",
      "Validation Loss: 0.3315\n",
      "Validation Accuracy: 90.09%\n",
      "\n",
      "Fine-tuning 완료!\n"
     ]
    }
   ],
   "source": [
    "# ==========================================\n",
    "# 4. 모델 학습 진행 (Fine-tuning)\n",
    "# ==========================================\n",
    "\n",
    "EPOCHS = 3  # 학습 반복 횟수\n",
    "\n",
    "train_losses = []  # Training Loss 저장\n",
    "val_losses = []  # Validation Loss 저장\n",
    "val_accuracies = []  # Validation Accuracy 저장\n",
    "\n",
    "for epoch in range(EPOCHS):\n",
    "    print(f\"\\nEpoch {epoch+1}/{EPOCHS}\")\n",
    "    \n",
    "    # ====== Training ======\n",
    "    model.train()\n",
    "    train_loss = 0\n",
    "    for batch in tqdm(train_loader):\n",
    "        batch = {key: value.to(device) for key, value in batch.items()}\n",
    "\n",
    "        outputs = model(input_ids=batch[\"input_ids\"], attention_mask=batch[\"attention_mask\"])\n",
    "        loss = criterion(outputs.logits, batch[\"label\"])\n",
    "\n",
    "        optimizer.zero_grad()\n",
    "        loss.backward()\n",
    "        optimizer.step()\n",
    "        lr_scheduler.step()\n",
    "\n",
    "        train_loss += loss.item()\n",
    "    \n",
    "    avg_train_loss = train_loss / len(train_loader)\n",
    "    train_losses.append(avg_train_loss)\n",
    "    print(f\"Training Loss: {avg_train_loss:.4f}\")\n",
    "\n",
    "    # ====== Validation ======\n",
    "    model.eval()\n",
    "    val_loss = 0\n",
    "    correct = 0\n",
    "    total = 0\n",
    "\n",
    "    with torch.no_grad():\n",
    "        for batch in val_loader:\n",
    "            batch = {key: value.to(device) for key, value in batch.items()}\n",
    "\n",
    "            outputs = model(input_ids=batch[\"input_ids\"], attention_mask=batch[\"attention_mask\"])\n",
    "            loss = criterion(outputs.logits, batch[\"label\"])\n",
    "            val_loss += loss.item()\n",
    "\n",
    "            preds = torch.argmax(outputs.logits, dim=1)\n",
    "            correct += (preds == batch[\"label\"]).sum().item()\n",
    "            total += batch[\"label\"].size(0)\n",
    "\n",
    "    avg_val_loss = val_loss / len(val_loader)\n",
    "    val_losses.append(avg_val_loss)\n",
    "    val_accuracy = correct / total * 100\n",
    "    val_accuracies.append(val_accuracy)\n",
    "    \n",
    "    print(f\"Validation Loss: {avg_val_loss:.4f}\")\n",
    "    print(f\"Validation Accuracy: {val_accuracy:.2f}%\")\n",
    "\n",
    "print(\"\\nFine-tuning 완료!\")"
   ]
  },
  {
   "cell_type": "code",
   "execution_count": 25,
   "metadata": {},
   "outputs": [
    {
     "data": {
      "image/png": "[encoded data removed]",
      "text/plain": [
       "<Figure size 1000x400 with 2 Axes>"
      ]
     },
     "metadata": {},
     "output_type": "display_data"
    }
   ],
   "source": [
    "# ==========================================\n",
    "# 5. Loss 및 Accuracy 시각화\n",
    "# ==========================================\n",
    "\n",
    "plt.figure(figsize=(10, 4))\n",
    "\n",
    "# Loss 그래프\n",
    "plt.subplot(1, 2, 1)\n",
    "plt.plot(range(1, EPOCHS + 1), train_losses, label=\"Train Loss\", marker=\"o\")\n",
    "plt.plot(range(1, EPOCHS + 1), val_losses, label=\"Validation Loss\", marker=\"o\")\n",
    "plt.xlabel(\"Epochs\")\n",
    "plt.ylabel(\"Loss\")\n",
    "plt.title(\"Training & Validation Loss\")\n",
    "plt.legend()\n",
    "\n",
    "# Accuracy 그래프\n",
    "plt.subplot(1, 2, 2)\n",
    "plt.plot(range(1, EPOCHS + 1), val_accuracies, label=\"Validation Accuracy\", marker=\"o\", color=\"green\")\n",
    "plt.xlabel(\"Epochs\")\n",
    "plt.ylabel(\"Accuracy (%)\")\n",
    "plt.title(\"Validation Accuracy\")\n",
    "plt.legend()\n",
    "\n",
    "plt.show()"
   ]
  },
  {
   "cell_type": "markdown",
   "metadata": {},
   "source": [
    "## 테스트 데이터 평가"
   ]
  },
  {
   "cell_type": "code",
   "execution_count": 26,
   "metadata": {},
   "outputs": [],
   "source": [
    "# ==========================================\n",
    "# 1. 테스트 데이터 전처리\n",
    "# ==========================================\n",
    "\n",
    "# 테스트 데이터셋 변환\n",
    "test_dataset = NSMCDataset(test_df, tokenizer)\n",
    "\n",
    "# DataLoader 설정 (shuffle=False)\n",
    "test_loader = DataLoader(test_dataset, batch_size=16, shuffle=False)"
   ]
  },
  {
   "cell_type": "code",
   "execution_count": 27,
   "metadata": {},
   "outputs": [],
   "source": [
    "# ==========================================\n",
    "# 2. 모델 평가 (Test Set)\n",
    "# ==========================================\n",
    "\n",
    "# 모델을 평가 모드로 설정\n",
    "model.eval()\n",
    "\n",
    "# 테스트 손실 및 정확도 변수 초기화\n",
    "test_loss = 0\n",
    "correct = 0\n",
    "total = 0\n",
    "\n",
    "# 손실 함수 (이전과 동일하게 사용)\n",
    "criterion = torch.nn.CrossEntropyLoss()\n",
    "\n",
    "with torch.no_grad():  # 평가 시에는 Gradient 계산 X\n",
    "    for batch in test_loader:\n",
    "        batch = {key: value.to(device) for key, value in batch.items()}\n",
    "\n",
    "        # 모델 예측 수행\n",
    "        outputs = model(input_ids=batch[\"input_ids\"], attention_mask=batch[\"attention_mask\"])\n",
    "        loss = criterion(outputs.logits, batch[\"label\"])\n",
    "        test_loss += loss.item()\n",
    "\n",
    "        # 예측 결과 확인\n",
    "        preds = torch.argmax(outputs.logits, dim=1)\n",
    "        correct += (preds == batch[\"label\"]).sum().item()\n",
    "        total += batch[\"label\"].size(0)\n",
    "\n",
    "# 평균 테스트 손실 및 정확도 계산\n",
    "avg_test_loss = test_loss / len(test_loader)\n",
    "test_accuracy = correct / total * 100"
   ]
  },
  {
   "cell_type": "code",
   "execution_count": 28,
   "metadata": {},
   "outputs": [
    {
     "name": "stdout",
     "output_type": "stream",
     "text": [
      "\n",
      " 테스트 데이터 평가 완료!\n",
      "Test Loss: 0.3291\n",
      "Test Accuracy: 90.20%\n"
     ]
    }
   ],
   "source": [
    "# ==========================================\n",
    "# 3. 테스트 결과 출력\n",
    "# ==========================================\n",
    "\n",
    "print(\"\\n 테스트 데이터 평가 완료!\")\n",
    "print(f\"Test Loss: {avg_test_loss:.4f}\")\n",
    "print(f\"Test Accuracy: {test_accuracy:.2f}%\")"
   ]
  },
  {
   "cell_type": "markdown",
   "metadata": {},
   "source": [
    "---"
   ]
  },
  {
   "cell_type": "markdown",
   "metadata": {},
   "source": [
    "## 회고"
   ]
  },
  {
   "cell_type": "markdown",
   "metadata": {},
   "source": [
    "- 학습시간이 1에폭당 평균적으로 1시간 가량 걸림.\n",
    "\n",
    "- 학습 결과 validation과 test 모두 정확도가 90% 이상 나오는 모습을 보이고 있음."
   ]
  }
 ],
 "metadata": {
  "kernelspec": {
   "display_name": "Python 3",
   "language": "python",
   "name": "python3"
  },
  "language_info": {
   "codemirror_mode": {
    "name": "ipython",
    "version": 3
   },
   "file_extension": ".py",
   "mimetype": "text/x-python",
   "name": "python",
   "nbconvert_exporter": "python",
   "pygments_lexer": "ipython3",
   "version": "3.10.11"
  }
 },
 "nbformat": 4,
 "nbformat_minor": 2
}
