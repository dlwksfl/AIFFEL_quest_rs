{
 "cells": [
  {
   "cell_type": "code",
   "execution_count": 1,
   "metadata": {},
   "outputs": [],
   "source": [
    "import pandas as pd\n",
    "import numpy as np\n",
    "import matplotlib.pyplot as plt\n",
    "import seaborn as sns\n",
    "import os\n",
    "import torch\n",
    "import torch.nn as nn\n",
    "import torch.optim as optim\n",
    "from torch.utils.data import Dataset, DataLoader\n",
    "from sklearn.model_selection import train_test_split\n",
    "from transformers import AutoTokenizer, AutoModelForSequenceClassification, AdamW, get_scheduler\n",
    "from tqdm import tqdm\n",
    "from torch.nn.utils.rnn import pad_sequence"
   ]
  },
  {
   "cell_type": "markdown",
   "metadata": {},
   "source": [
    "## klue/bert-base model 및 tokenizer 불러오기"
   ]
  },
  {
   "cell_type": "code",
   "execution_count": 2,
   "metadata": {},
   "outputs": [],
   "source": [
    "# ==========================================\n",
    "# 1. 데이터 로드 및 변환 (Train / Validation / Test Split)\n",
    "# ==========================================\n",
    "\n",
    "# 파일 경로 설정\n",
    "train_file_path = \"/Users/jian_lee/Desktop/aiffel/data/HuggingFace/ratings_train.txt\"\n",
    "test_file_path = \"/Users/jian_lee/Desktop/aiffel/data/HuggingFace/ratings_test.txt\"\n",
    "\n",
    "# 데이터 불러오기\n",
    "train_df = pd.read_csv(train_file_path, delimiter='\\t', keep_default_na=False)\n",
    "test_df = pd.read_csv(test_file_path, delimiter='\\t', keep_default_na=False)\n",
    "\n",
    "# Train/Validation split (80:20 비율)\n",
    "train_df, val_df = train_test_split(train_df, test_size=0.2, random_state=42)\n",
    "\n",
    "# 사용할 모델 이름 지정 (KLUE BERT Base 모델)\n",
    "MODEL_NAME = \"klue/bert-base\"\n",
    "\n",
    "# 사전 학습된 KLUE BERT 토크나이저 로드\n",
    "tokenizer = AutoTokenizer.from_pretrained(MODEL_NAME)"
   ]
  },
  {
   "cell_type": "code",
   "execution_count": 3,
   "metadata": {},
   "outputs": [],
   "source": [
    "# ==========================================\n",
    "# 2. Bucketing을 고려한 Dataset 및 Collate 함수\n",
    "# ==========================================\n",
    "\n",
    "class NSMCBucketingDataset(Dataset):\n",
    "    \"\"\"\n",
    "    NSMC 감성 분석 데이터셋을 PyTorch Dataset 형식으로 변환하는 클래스.\n",
    "    Bucketing 적용을 위해 문장 길이를 기준으로 정렬하여 배치 구성.\n",
    "    \"\"\"\n",
    "    def __init__(self, data_dict, tokenizer, max_length=128):\n",
    "        \"\"\"\n",
    "        데이터셋 초기화 함수.\n",
    "\n",
    "        Args:\n",
    "            data_dict (dict): {\"text\": 텍스트 리스트, \"label\": 레이블 리스트}\n",
    "            tokenizer: KLUE BERT 토크나이저\n",
    "            max_length (int): 최대 시퀀스 길이 (기본값: 128)\n",
    "        \"\"\"\n",
    "        self.texts = data_dict[\"text\"]\n",
    "        self.labels = data_dict[\"label\"]\n",
    "        self.tokenizer = tokenizer\n",
    "        self.max_length = max_length\n",
    "\n",
    "        # 문장 길이에 따라 정렬 (길이가 비슷한 샘플끼리 배치하기 위함)\n",
    "        text_lengths = [len(tokenizer.tokenize(text)) for text in self.texts]\n",
    "        sorted_indices = np.argsort(text_lengths)  # 길이를 기준으로 정렬\n",
    "        self.texts = [self.texts[i] for i in sorted_indices]\n",
    "        self.labels = [self.labels[i] for i in sorted_indices]\n",
    "\n",
    "    def __len__(self):\n",
    "        return len(self.texts)\n",
    "\n",
    "    def __getitem__(self, idx):\n",
    "        encoding = self.tokenizer(\n",
    "            self.texts[idx], \n",
    "            truncation=True,\n",
    "            max_length=self.max_length,\n",
    "            return_tensors=\"pt\"\n",
    "        )\n",
    "\n",
    "        return {\n",
    "            \"input_ids\": encoding[\"input_ids\"].squeeze(0),\n",
    "            \"attention_mask\": encoding[\"attention_mask\"].squeeze(0),\n",
    "            \"label\": torch.tensor(self.labels[idx], dtype=torch.long)\n",
    "        }\n",
    "\n",
    "# Bucketing을 적용한 Collate 함수 정의 (가변 길이 배치 적용)\n",
    "def collate_fn(batch):\n",
    "    input_ids = [item[\"input_ids\"] for item in batch]\n",
    "    attention_mask = [item[\"attention_mask\"] for item in batch]\n",
    "    labels = torch.tensor([item[\"label\"] for item in batch], dtype=torch.long)\n",
    "\n",
    "    # 최대 문장 길이에 맞춰 padding 적용 (가변 길이 지원)\n",
    "    input_ids = pad_sequence(input_ids, batch_first=True, padding_value=tokenizer.pad_token_id)\n",
    "    attention_mask = pad_sequence(attention_mask, batch_first=True, padding_value=0)\n",
    "\n",
    "    return {\"input_ids\": input_ids, \"attention_mask\": attention_mask, \"label\": labels}"
   ]
  },
  {
   "cell_type": "code",
   "execution_count": 4,
   "metadata": {},
   "outputs": [],
   "source": [
    "# ==========================================\n",
    "# 3. 훈련 및 테스트 데이터셋 생성 (Bucketing 적용)\n",
    "# ==========================================\n",
    "\n",
    "# DataFrame을 Python 딕셔너리로 변환\n",
    "train_dict = {\n",
    "    \"text\": train_df[\"document\"].tolist(),\n",
    "    \"label\": train_df[\"label\"].tolist(),\n",
    "}\n",
    "val_dict = {\n",
    "    \"text\": val_df[\"document\"].tolist(),\n",
    "    \"label\": val_df[\"label\"].tolist(),\n",
    "}\n",
    "test_dict = {\n",
    "    \"text\": test_df[\"document\"].tolist(),\n",
    "    \"label\": test_df[\"label\"].tolist(),\n",
    "}\n",
    "\n",
    "# NSMC 데이터셋을 커스텀 PyTorch Dataset 클래스로 변환\n",
    "train_dataset = NSMCBucketingDataset(train_dict, tokenizer)\n",
    "val_dataset = NSMCBucketingDataset(val_dict, tokenizer)\n",
    "test_dataset = NSMCBucketingDataset(test_dict, tokenizer)"
   ]
  },
  {
   "cell_type": "code",
   "execution_count": 5,
   "metadata": {},
   "outputs": [
    {
     "name": "stdout",
     "output_type": "stream",
     "text": [
      "Bucketing을 적용한 DataLoader 생성 완료\n"
     ]
    }
   ],
   "source": [
    "# ==========================================\n",
    "# 4. DataLoader 설정 (Bucketing 적용)\n",
    "# ==========================================\n",
    "\n",
    "# DataLoader를 생성하여 배치 단위로 데이터 로딩\n",
    "train_loader = DataLoader(train_dataset, batch_size=16, shuffle=True, collate_fn=collate_fn)\n",
    "val_loader = DataLoader(val_dataset, batch_size=16, shuffle=False, collate_fn=collate_fn)\n",
    "test_loader = DataLoader(test_dataset, batch_size=16, shuffle=False, collate_fn=collate_fn)\n",
    "\n",
    "print(\"Bucketing을 적용한 DataLoader 생성 완료\")"
   ]
  },
  {
   "cell_type": "markdown",
   "metadata": {},
   "source": [
    "## 모델 학습"
   ]
  },
  {
   "cell_type": "code",
   "execution_count": 6,
   "metadata": {},
   "outputs": [
    {
     "name": "stderr",
     "output_type": "stream",
     "text": [
      "Some weights of BertForSequenceClassification were not initialized from the model checkpoint at klue/bert-base and are newly initialized: ['classifier.bias', 'classifier.weight']\n",
      "You should probably TRAIN this model on a down-stream task to be able to use it for predictions and inference.\n"
     ]
    }
   ],
   "source": [
    "# ==========================================\n",
    "# 5. 모델을 실행할 디바이스 설정 (MPS 지원 추가)\n",
    "# ==========================================\n",
    "\n",
    "# Mac MPS 지원을 확인하고, 가능한 경우 GPU 사용\n",
    "if torch.backends.mps.is_available():\n",
    "    device = torch.device(\"mps\")\n",
    "elif torch.cuda.is_available():\n",
    "    device = torch.device(\"cuda\")\n",
    "else:\n",
    "    device = torch.device(\"cpu\")\n",
    "\n",
    "# 모델 로드 및 디바이스 이동\n",
    "model = AutoModelForSequenceClassification.from_pretrained(MODEL_NAME, num_labels=2)\n",
    "model.to(device)\n",
    "\n",
    "# 옵티마이저 및 손실 함수 설정\n",
    "optimizer = torch.optim.AdamW(model.parameters(), lr=5e-5)\n",
    "criterion = torch.nn.CrossEntropyLoss()\n",
    "\n",
    "# 스케줄러 설정 (학습률 감소)\n",
    "num_training_steps = len(train_loader) * 3  # 3 epochs\n",
    "lr_scheduler = get_scheduler(\"linear\", optimizer=optimizer, num_warmup_steps=0, num_training_steps=num_training_steps)"
   ]
  },
  {
   "cell_type": "code",
   "execution_count": 10,
   "metadata": {},
   "outputs": [
    {
     "name": "stdout",
     "output_type": "stream",
     "text": [
      "\n",
      "🔹 Epoch 1/3\n"
     ]
    },
    {
     "name": "stderr",
     "output_type": "stream",
     "text": [
      "100%|██████████| 7500/7500 [31:56<00:00,  3.91it/s]\n"
     ]
    },
    {
     "name": "stdout",
     "output_type": "stream",
     "text": [
      "Training Loss: 0.0491\n",
      "Validation Loss: 0.3310\n",
      "Validation Accuracy: 90.11%\n",
      "\n",
      "🔹 Epoch 2/3\n"
     ]
    },
    {
     "name": "stderr",
     "output_type": "stream",
     "text": [
      "100%|██████████| 7500/7500 [32:06<00:00,  3.89it/s]\n"
     ]
    },
    {
     "name": "stdout",
     "output_type": "stream",
     "text": [
      "Training Loss: 0.0489\n",
      "Validation Loss: 0.3310\n",
      "Validation Accuracy: 90.11%\n",
      "\n",
      "🔹 Epoch 3/3\n"
     ]
    },
    {
     "name": "stderr",
     "output_type": "stream",
     "text": [
      "100%|██████████| 7500/7500 [32:03<00:00,  3.90it/s]\n"
     ]
    },
    {
     "name": "stdout",
     "output_type": "stream",
     "text": [
      "Training Loss: 0.0486\n",
      "Validation Loss: 0.3310\n",
      "Validation Accuracy: 90.11%\n",
      "\n",
      "Bucketing 적용 Fine-tuning 완료!\n"
     ]
    }
   ],
   "source": [
    "# ==========================================\n",
    "# 6. 모델 학습 진행 (Fine-tuning with Bucketing)\n",
    "# ==========================================\n",
    "\n",
    "EPOCHS = 3  # 학습 반복 횟수\n",
    "\n",
    "# Loss 및 Accuracy 저장 리스트 (시각화용)\n",
    "train_losses = []\n",
    "val_losses = []\n",
    "val_accuracies = []\n",
    "\n",
    "for epoch in range(EPOCHS):\n",
    "    print(f\"\\n🔹 Epoch {epoch+1}/{EPOCHS}\")\n",
    "    \n",
    "    # ====== Training ======\n",
    "    model.train()\n",
    "    train_loss = 0\n",
    "    for batch in tqdm(train_loader):\n",
    "        batch = {key: value.to(device) for key, value in batch.items()}\n",
    "\n",
    "        outputs = model(input_ids=batch[\"input_ids\"], attention_mask=batch[\"attention_mask\"])\n",
    "        loss = criterion(outputs.logits, batch[\"label\"])\n",
    "\n",
    "        optimizer.zero_grad()\n",
    "        loss.backward()\n",
    "        optimizer.step()\n",
    "        lr_scheduler.step()\n",
    "\n",
    "        train_loss += loss.item()\n",
    "    \n",
    "    avg_train_loss = train_loss / len(train_loader)\n",
    "    train_losses.append(avg_train_loss)  # Train Loss 저장\n",
    "    print(f\"Training Loss: {avg_train_loss:.4f}\")\n",
    "\n",
    "    # ====== Validation ======\n",
    "    model.eval()\n",
    "    val_loss = 0\n",
    "    correct = 0\n",
    "    total = 0\n",
    "\n",
    "    with torch.no_grad():\n",
    "        for batch in val_loader:\n",
    "            batch = {key: value.to(device) for key, value in batch.items()}\n",
    "\n",
    "            outputs = model(input_ids=batch[\"input_ids\"], attention_mask=batch[\"attention_mask\"])\n",
    "            loss = criterion(outputs.logits, batch[\"label\"])\n",
    "            val_loss += loss.item()\n",
    "\n",
    "            preds = torch.argmax(outputs.logits, dim=1)\n",
    "            correct += (preds == batch[\"label\"]).sum().item()\n",
    "            total += batch[\"label\"].size(0)\n",
    "\n",
    "    avg_val_loss = val_loss / len(val_loader)\n",
    "    val_accuracy = correct / total * 100\n",
    "\n",
    "    val_losses.append(avg_val_loss)  # Validation Loss 저장\n",
    "    val_accuracies.append(val_accuracy)  # Validation Accuracy 저장\n",
    "\n",
    "    print(f\"Validation Loss: {avg_val_loss:.4f}\")\n",
    "    print(f\"Validation Accuracy: {val_accuracy:.2f}%\")\n",
    "\n",
    "print(\"\\nBucketing 적용 Fine-tuning 완료!\")"
   ]
  },
  {
   "cell_type": "code",
   "execution_count": 12,
   "metadata": {},
   "outputs": [
    {
     "data": {
      "image/png": "[encoded data removed]",
      "text/plain": [
       "<Figure size 1200x500 with 2 Axes>"
      ]
     },
     "metadata": {},
     "output_type": "display_data"
    }
   ],
   "source": [
    "# ==========================================\n",
    "# 7. Loss 및 Accuracy 시각화 (기존 모델 vs Bucketing 적용 모델)\n",
    "# ==========================================\n",
    "\n",
    "# 학습된 Loss 및 Accuracy 리스트를 Bucketing 모델과 기존 모델 변수로 정리\n",
    "bucketing_train_losses = train_losses  # Bucketing 모델의 Training Loss\n",
    "bucketing_val_losses = val_losses  # Bucketing 모델의 Validation Loss\n",
    "bucketing_val_accuracies = val_accuracies  # Bucketing 모델의 Validation Accuracy\n",
    "\n",
    "plt.figure(figsize=(12, 5))\n",
    "\n",
    "# Loss 그래프\n",
    "plt.subplot(1, 2, 1)\n",
    "plt.plot(range(1, len(bucketing_train_losses) + 1), bucketing_train_losses, label=\"Train Loss\", marker=\"o\", linestyle=\"-\")\n",
    "plt.plot(range(1, len(bucketing_val_losses) + 1), bucketing_val_losses, label=\"Validation Loss\", marker=\"s\", linestyle=\"dashed\")\n",
    "plt.xlabel(\"Epochs\")\n",
    "plt.ylabel(\"Loss\")\n",
    "plt.title(\"Training & Validation Loss (Bucketing)\")\n",
    "plt.legend()\n",
    "\n",
    "# Accuracy 그래프\n",
    "plt.subplot(1, 2, 2)\n",
    "plt.plot(range(1, len(bucketing_val_accuracies) + 1), bucketing_val_accuracies, label=\"Validation Accuracy\", marker=\"o\", linestyle=\"-\", color=\"green\")\n",
    "plt.xlabel(\"Epochs\")\n",
    "plt.ylabel(\"Accuracy (%)\")\n",
    "plt.title(\"Validation Accuracy (Bucketing)\")\n",
    "plt.legend()\n",
    "\n",
    "# 그래프 표시\n",
    "plt.show()"
   ]
  },
  {
   "cell_type": "markdown",
   "metadata": {},
   "source": [
    "## 테스트 데이터 평가"
   ]
  },
  {
   "cell_type": "code",
   "execution_count": 14,
   "metadata": {},
   "outputs": [
    {
     "name": "stdout",
     "output_type": "stream",
     "text": [
      "Bucketing 적용된 테스트 데이터셋 및 DataLoader 생성 완료\n"
     ]
    }
   ],
   "source": [
    "# ==========================================\n",
    "# 1. Bucketing 적용된 테스트 데이터 전처리\n",
    "# ==========================================\n",
    "\n",
    "# `test_df`를 올바른 딕셔너리 형태로 변환\n",
    "test_dict = {\n",
    "    \"text\": test_df[\"document\"].tolist(),  # 'document' 컬럼을 'text'로 변경\n",
    "    \"label\": test_df[\"label\"].tolist(),\n",
    "}\n",
    "\n",
    "# Bucketing을 적용한 테스트 데이터셋 변환\n",
    "test_dataset_bucketing = NSMCBucketingDataset(test_dict, tokenizer)\n",
    "\n",
    "# Bucketing을 적용한 DataLoader (collate_fn 적용)\n",
    "test_loader_bucketing = DataLoader(test_dataset_bucketing, batch_size=16, shuffle=False, collate_fn=collate_fn)\n",
    "\n",
    "print(\"Bucketing 적용된 테스트 데이터셋 및 DataLoader 생성 완료\")"
   ]
  },
  {
   "cell_type": "code",
   "execution_count": 15,
   "metadata": {},
   "outputs": [],
   "source": [
    "# ==========================================\n",
    "# 2. Bucketing 모델 평가 (Test Set)\n",
    "# ==========================================\n",
    "\n",
    "# 모델을 평가 모드로 설정\n",
    "model.eval()\n",
    "\n",
    "# 테스트 손실 및 정확도 변수 초기화\n",
    "test_loss_bucketing = 0\n",
    "correct_bucketing = 0\n",
    "total_bucketing = 0\n",
    "\n",
    "# 손실 함수 (이전과 동일하게 사용)\n",
    "criterion = torch.nn.CrossEntropyLoss()\n",
    "\n",
    "with torch.no_grad():  # 평가 시에는 Gradient 계산 X\n",
    "    for batch in test_loader_bucketing:\n",
    "        batch = {key: value.to(device) for key, value in batch.items()}\n",
    "\n",
    "        # 모델 예측 수행\n",
    "        outputs = model(input_ids=batch[\"input_ids\"], attention_mask=batch[\"attention_mask\"])\n",
    "        loss = criterion(outputs.logits, batch[\"label\"])\n",
    "        test_loss_bucketing += loss.item()\n",
    "\n",
    "        # 예측 결과 확인\n",
    "        preds = torch.argmax(outputs.logits, dim=1)\n",
    "        correct_bucketing += (preds == batch[\"label\"]).sum().item()\n",
    "        total_bucketing += batch[\"label\"].size(0)\n",
    "\n",
    "# 평균 테스트 손실 및 정확도 계산\n",
    "avg_test_loss_bucketing = test_loss_bucketing / len(test_loader_bucketing)\n",
    "test_accuracy_bucketing = correct_bucketing / total_bucketing * 100"
   ]
  },
  {
   "cell_type": "code",
   "execution_count": 17,
   "metadata": {},
   "outputs": [
    {
     "name": "stdout",
     "output_type": "stream",
     "text": [
      "\n",
      "Bucketing 모델 테스트 데이터 평가 완료!\n",
      "Test Loss (Bucketing): 0.3259\n",
      "Test Accuracy (Bucketing): 90.22%\n"
     ]
    }
   ],
   "source": [
    "# ==========================================\n",
    "# 3. 테스트 결과 비교 출력\n",
    "# ==========================================\n",
    "\n",
    "print(\"\\nBucketing 모델 테스트 데이터 평가 완료!\")\n",
    "print(f\"Test Loss (Bucketing): {avg_test_loss_bucketing:.4f}\")\n",
    "print(f\"Test Accuracy (Bucketing): {test_accuracy_bucketing:.2f}%\")"
   ]
  },
  {
   "cell_type": "markdown",
   "metadata": {},
   "source": [
    "---"
   ]
  },
  {
   "cell_type": "markdown",
   "metadata": {},
   "source": [
    "## 회고"
   ]
  },
  {
   "cell_type": "markdown",
   "metadata": {},
   "source": [
    "- 기존 모델에 비해 시간이 단축된 모습을 볼 수 있음.\n",
    "    - 기존 모델은 1시간 이상 걸렸지만 30분 만에 학습이 완료됨.\n",
    "\n",
    "- 성능은 큰 차이가 없음."
   ]
  }
 ],
 "metadata": {
  "kernelspec": {
   "display_name": "Python 3",
   "language": "python",
   "name": "python3"
  },
  "language_info": {
   "codemirror_mode": {
    "name": "ipython",
    "version": 3
   },
   "file_extension": ".py",
   "mimetype": "text/x-python",
   "name": "python",
   "nbconvert_exporter": "python",
   "pygments_lexer": "ipython3",
   "version": "3.10.11"
  }
 },
 "nbformat": 4,
 "nbformat_minor": 2
}
