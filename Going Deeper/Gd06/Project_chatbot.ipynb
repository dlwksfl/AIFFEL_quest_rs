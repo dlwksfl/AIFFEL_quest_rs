{
 "cells": [
  {
   "cell_type": "code",
   "execution_count": 1,
   "metadata": {},
   "outputs": [],
   "source": [
    "import pandas as pd\n",
    "import numpy as np\n",
    "import matplotlib.pyplot as plt\n",
    "import seaborn as sns\n",
    "import os\n",
    "import torch\n",
    "import torch.nn as nn\n",
    "import torch.optim as optim\n",
    "import torch.nn.functional as F\n",
    "import sentencepiece as spm\n",
    "import math\n",
    "import re\n",
    "from tqdm.notebook import tqdm\n",
    "import random\n",
    "from torch.nn.utils.rnn import pad_sequence\n",
    "from gensim.models import KeyedVectors\n",
    "import gensim.downloader as api"
   ]
  },
  {
   "cell_type": "code",
   "execution_count": 2,
   "metadata": {},
   "outputs": [],
   "source": [
    "chat_path = \"/Users/jian_lee/Desktop/aiffel/data/Chatbot/ChatbotData (1).csv\""
   ]
  },
  {
   "cell_type": "code",
   "execution_count": 3,
   "metadata": {},
   "outputs": [
    {
     "name": "stdout",
     "output_type": "stream",
     "text": [
      "중복 제거 전 데이터 크기: 11823\n",
      "중복 제거 후 데이터 크기: 11750\n",
      "\n",
      "랜덤 샘플 10개:\n",
      "1. 한국어: 나라도 내 마음을 지켜야 하는 거야 | 영어: 본인 마음 좀 지켜주세요.\n",
      "2. 한국어: 거짓말 하는 썸남 말해? | 영어: 거짓말은 습관이에요.\n",
      "3. 한국어: 종교가 다른 짝남과 연애할수 있을까? | 영어: 사랑은 종교를 뛰어넘을 수 있을 거예요.\n",
      "4. 한국어: 10년 연애. 헤어졌습니다. | 영어: 더 공허함이 크시겠네요.\n",
      "5. 한국어: 오늘은 2년전 그녀에게 고백했던날 | 영어: 아픔을 헤아려도 달라지는 건 없어요.\n",
      "6. 한국어: 연말이라 그런지 | 영어: 외롭겠지만 즐겁게 보내보아요.\n",
      "7. 한국어: 나 미쳤나바 | 영어: 그럴 수 있어요.\n",
      "8. 한국어: 심심한데 뭐하면 좋을까 | 영어: 저랑 이야기해요.\n",
      "9. 한국어: 고민이 많은데 표현을 못하겠어 | 영어: 글로 적어보세요. 조금이나마 정리가 될 거예요.\n",
      "10. 한국어: 겁난다 | 영어: 용기 내보세요.\n"
     ]
    }
   ],
   "source": [
    "# 데이터 정제 및 토큰화\n",
    "def clean_corpus(chat_path):\n",
    "    # CSV 파일 로드\n",
    "    df = pd.read_csv(chat_path)\n",
    "    \n",
    "    # 한국어 (Q), 영어 (A) 컬럼 선택\n",
    "    kor = df[\"Q\"].tolist()\n",
    "    eng = df[\"A\"].tolist()\n",
    "    \n",
    "    assert len(kor) == len(eng), \"한국어와 영어 코퍼스의 크기가 일치하지 않습니다!\"\n",
    "    \n",
    "    # 중복 제거 전 데이터 크기\n",
    "    original_size = len(kor)\n",
    "    \n",
    "    # 중복 제거 (병렬 데이터를 튜플로 묶어 처리)\n",
    "    unique_pairs = set(zip(kor, eng))\n",
    "    \n",
    "    # 중복 제거 후 데이터 크기\n",
    "    cleaned_size = len(unique_pairs)\n",
    "    \n",
    "    # 리스트로 변환\n",
    "    cleaned_corpus = list(unique_pairs)\n",
    "    \n",
    "    # 중복 제거 확인\n",
    "    print(f\"중복 제거 전 데이터 크기: {original_size}\")\n",
    "    print(f\"중복 제거 후 데이터 크기: {cleaned_size}\")\n",
    "    \n",
    "    # 랜덤 샘플 10개 출력\n",
    "    print(\"\\n랜덤 샘플 10개:\")\n",
    "    sample_size = min(10, cleaned_size)  # 데이터가 10개 미만일 경우 대비\n",
    "    random_samples = random.sample(cleaned_corpus, sample_size)\n",
    "    \n",
    "    for i, (kor_sample, eng_sample) in enumerate(random_samples, 1):\n",
    "        print(f\"{i}. 한국어: {kor_sample} | 영어: {eng_sample}\")\n",
    "\n",
    "    return cleaned_corpus\n",
    "\n",
    "# 함수 실행\n",
    "cleaned_corpus = clean_corpus(chat_path)"
   ]
  },
  {
   "cell_type": "code",
   "execution_count": 4,
   "metadata": {},
   "outputs": [
    {
     "name": "stdout",
     "output_type": "stream",
     "text": [
      "\n",
      "랜덤 샘플 10개 (전처리 전 -> 전처리 후):\n",
      "1. 한국어: 연락죽어도 안올텐데 매일 기다려 -> 연락죽어도 안올텐데 매일 기다려\n",
      "   영어: 변해야할 시기를 놓친 걸 수도 있어요. -> 변해야할 시기를 놓친 걸 수도 있어요 .\n",
      "2. 한국어: 좀 쉬면서 애기 키워야 할 듯 -> 좀 쉬면서 애기 키워야 할 듯\n",
      "   영어: 좋은 곳에서 일하시나봐요. -> 좋은 곳에서 일하시나봐요 .\n",
      "3. 한국어: 여친 있는 짝남이 너무 친절하게 대해줘서 착각하게 돼요. -> 여친 있는 짝남이 너무 친절하게 대해줘서 착각하게 돼요 .\n",
      "   영어: 상대를 헷갈리게 하는 건 좋지 않아요. -> 상대를 헷갈리게 하는 건 좋지 않아요 .\n",
      "4. 한국어: 장거리연애 이별 -> 장거리연애 이별\n",
      "   영어: 애틋했던 만큼 아픔도 크겠죠. -> 애틋했던 만큼 아픔도 크겠죠 .\n",
      "5. 한국어: 날 버려달라고 -> 날 버려달라고\n",
      "   영어: 슬프네요. -> 슬프네요 .\n",
      "6. 한국어: 진급 누락됐어 -> 진급 누락됐어\n",
      "   영어: 다음에는 꼭 진급할 거예요. -> 다음에는 꼭 진급할 거예요 .\n",
      "7. 한국어: 뭔가 무섭다 -> 뭔가 무섭다\n",
      "   영어: 어흥!! 호랑이보다 무섭나요? -> 어흥 ! ! 호랑이보다 무섭나요 ?\n",
      "8. 한국어: 여자친구가 음식을 너무 적게 먹어 -> 여자친구가 음식을 너무 적게 먹어\n",
      "   영어: 과식보다 소식이 좋죠. -> 과식보다 소식이 좋죠 .\n",
      "9. 한국어: 내가 좋아하는 애를 내 친구가 계속 욕하는게 맘에 안들어. -> 내가 좋아하는 애를 내 친구가 계속 욕하는게 맘에 안들어 .\n",
      "   영어: 특별한 이유가 없다면 서운함을 전해보세요. -> 특별한 이유가 없다면 서운함을 전해보세요 .\n",
      "10. 한국어: 외롭지만 혼자 걸을수 있어_조성모 -> 외롭지만 혼자 걸을수 있어조성모\n",
      "   영어: 제가 뒤에서 지켜드릴게요. -> 제가 뒤에서 지켜드릴게요 .\n"
     ]
    }
   ],
   "source": [
    "# 정규식 패턴을 사전 컴파일하여 속도 최적화\n",
    "TOKEN_CLEANER = re.compile(r\"[^a-zA-Zㄱ-ㅎ가-힣.,!? ]\")\n",
    "PUNCTUATION_SPACING = re.compile(r\"([.,!?])\")\n",
    "MULTI_SPACE_CLEANER = re.compile(r\"\\s+\")\n",
    "\n",
    "def preprocess_sentence(sentence):\n",
    "    \"\"\"\n",
    "    문장을 정제하는 함수\n",
    "    1. 소문자로 변환\n",
    "    2. 불필요한 문자 제거\n",
    "    3. 문장부호 양옆에 공백 추가\n",
    "    4. 연속된 공백을 하나로 변환\n",
    "    \"\"\"\n",
    "    sentence = sentence.lower()  # 소문자 변환\n",
    "    sentence = TOKEN_CLEANER.sub(\"\", sentence)  # 불필요한 문자 제거\n",
    "    sentence = PUNCTUATION_SPACING.sub(r\" \\1 \", sentence)  # 문장부호 공백 추가\n",
    "    sentence = MULTI_SPACE_CLEANER.sub(\" \", sentence)  # 다중 공백 제거\n",
    "    sentence = sentence.strip()  # 앞뒤 공백 제거\n",
    "    return sentence\n",
    "\n",
    "# 전처리된 랜덤 샘플 10개 출력\n",
    "def check_preprocessing_samples(cleaned_corpus):\n",
    "    sample_size = min(10, len(cleaned_corpus))  # 데이터가 10개 미만일 경우 대비\n",
    "    random_samples = random.sample(cleaned_corpus, sample_size)\n",
    "\n",
    "    print(\"\\n랜덤 샘플 10개 (전처리 전 -> 전처리 후):\")\n",
    "    for i, (kor_sample, eng_sample) in enumerate(random_samples, 1):\n",
    "        preprocessed_kor = preprocess_sentence(kor_sample)\n",
    "        preprocessed_eng = preprocess_sentence(eng_sample)\n",
    "        print(f\"{i}. 한국어: {kor_sample} -> {preprocessed_kor}\")\n",
    "        print(f\"   영어: {eng_sample} -> {preprocessed_eng}\")\n",
    "\n",
    "# 함수 실행 (cleaned_corpus가 이전 단계에서 생성된 것)\n",
    "check_preprocessing_samples(cleaned_corpus)"
   ]
  },
  {
   "cell_type": "code",
   "execution_count": 5,
   "metadata": {},
   "outputs": [
    {
     "name": "stdout",
     "output_type": "stream",
     "text": [
      "ko 단어 사전 크기 조정: 6989\n",
      "en 단어 사전 크기 조정: 4563\n"
     ]
    },
    {
     "name": "stderr",
     "output_type": "stream",
     "text": [
      "sentencepiece_trainer.cc(78) LOG(INFO) Starts training with : \n",
      "trainer_spec {\n",
      "  input: ko_corpus.txt\n",
      "  input_format: \n",
      "  model_prefix: ko_tokenizer\n",
      "  model_type: UNIGRAM\n",
      "  vocab_size: 6989\n",
      "  self_test_sample_size: 0\n",
      "  character_coverage: 0.9995\n",
      "  input_sentence_size: 0\n",
      "  shuffle_input_sentence: 1\n",
      "  seed_sentencepiece_size: 1000000\n",
      "  shrinking_factor: 0.75\n",
      "  max_sentence_length: 4192\n",
      "  num_threads: 16\n",
      "  num_sub_iterations: 2\n",
      "  max_sentencepiece_length: 16\n",
      "  split_by_unicode_script: 1\n",
      "  split_by_number: 1\n",
      "  split_by_whitespace: 1\n",
      "  split_digits: 0\n",
      "  pretokenization_delimiter: \n",
      "  treat_whitespace_as_suffix: 0\n",
      "  allow_whitespace_only_pieces: 0\n",
      "  required_chars: \n",
      "  byte_fallback: 0\n",
      "  vocabulary_output_piece_score: 1\n",
      "  train_extremely_large_corpus: 0\n",
      "  seed_sentencepieces_file: \n",
      "  hard_vocab_limit: 1\n",
      "  use_all_vocab: 0\n",
      "  unk_id: 3\n",
      "  bos_id: 1\n",
      "  eos_id: 2\n",
      "  pad_id: 0\n",
      "  unk_piece: <unk>\n",
      "  bos_piece: <s>\n",
      "  eos_piece: </s>\n",
      "  pad_piece: <pad>\n",
      "  unk_surface:  ⁇ \n",
      "  enable_differential_privacy: 0\n",
      "  differential_privacy_noise_level: 0\n",
      "  differential_privacy_clipping_threshold: 0\n",
      "}\n",
      "normalizer_spec {\n",
      "  name: nmt_nfkc\n",
      "  add_dummy_prefix: 1\n",
      "  remove_extra_whitespaces: 1\n",
      "  escape_whitespaces: 1\n",
      "  normalization_rule_tsv: \n",
      "}\n",
      "denormalizer_spec {}\n",
      "trainer_interface.cc(353) LOG(INFO) SentenceIterator is not specified. Using MultiFileSentenceIterator.\n",
      "trainer_interface.cc(185) LOG(INFO) Loading corpus: ko_corpus.txt\n",
      "trainer_interface.cc(409) LOG(INFO) Loaded all 11750 sentences\n",
      "trainer_interface.cc(425) LOG(INFO) Adding meta_piece: <pad>\n",
      "trainer_interface.cc(425) LOG(INFO) Adding meta_piece: <s>\n",
      "trainer_interface.cc(425) LOG(INFO) Adding meta_piece: </s>\n",
      "trainer_interface.cc(425) LOG(INFO) Adding meta_piece: <unk>\n",
      "trainer_interface.cc(430) LOG(INFO) Normalizing sentences...\n",
      "trainer_interface.cc(539) LOG(INFO) all chars count=166720\n",
      "trainer_interface.cc(550) LOG(INFO) Done: 99.9502% characters are covered.\n",
      "trainer_interface.cc(560) LOG(INFO) Alphabet size=1047\n",
      "trainer_interface.cc(561) LOG(INFO) Final character coverage=0.999502\n",
      "trainer_interface.cc(592) LOG(INFO) Done! preprocessed 11750 sentences.\n",
      "unigram_model_trainer.cc(265) LOG(INFO) Making suffix array...\n",
      "unigram_model_trainer.cc(269) LOG(INFO) Extracting frequent sub strings... node_num=68380\n",
      "unigram_model_trainer.cc(312) LOG(INFO) Initialized 12559 seed sentencepieces\n",
      "trainer_interface.cc(598) LOG(INFO) Tokenizing input sentences with whitespace: 11750\n",
      "trainer_interface.cc(609) LOG(INFO) Done! 13234\n",
      "unigram_model_trainer.cc(602) LOG(INFO) Using 13234 sentences for EM training\n",
      "unigram_model_trainer.cc(618) LOG(INFO) EM sub_iter=0 size=7425 obj=11.3159 num_tokens=25856 num_tokens/piece=3.48229\n",
      "unigram_model_trainer.cc(618) LOG(INFO) EM sub_iter=1 size=6711 obj=10.5478 num_tokens=25946 num_tokens/piece=3.86619\n",
      "trainer_interface.cc(687) LOG(INFO) Saving model: ko_tokenizer.model\n",
      "trainer_interface.cc(699) LOG(INFO) Saving vocabs: ko_tokenizer.vocab\n",
      "sentencepiece_trainer.cc(78) LOG(INFO) Starts training with : \n",
      "trainer_spec {\n",
      "  input: en_corpus.txt\n",
      "  input_format: \n",
      "  model_prefix: en_tokenizer\n",
      "  model_type: UNIGRAM\n",
      "  vocab_size: 4563\n",
      "  self_test_sample_size: 0\n",
      "  character_coverage: 0.9995\n",
      "  input_sentence_size: 0\n",
      "  shuffle_input_sentence: 1\n",
      "  seed_sentencepiece_size: 1000000\n",
      "  shrinking_factor: 0.75\n",
      "  max_sentence_length: 4192\n",
      "  num_threads: 16\n",
      "  num_sub_iterations: 2\n",
      "  max_sentencepiece_length: 16\n",
      "  split_by_unicode_script: 1\n",
      "  split_by_number: 1\n",
      "  split_by_whitespace: 1\n",
      "  split_digits: 0\n",
      "  pretokenization_delimiter: \n",
      "  treat_whitespace_as_suffix: 0\n",
      "  allow_whitespace_only_pieces: 0\n",
      "  required_chars: \n",
      "  byte_fallback: 0\n",
      "  vocabulary_output_piece_score: 1\n",
      "  train_extremely_large_corpus: 0\n",
      "  seed_sentencepieces_file: \n",
      "  hard_vocab_limit: 1\n",
      "  use_all_vocab: 0\n",
      "  unk_id: 3\n",
      "  bos_id: 1\n",
      "  eos_id: 2\n",
      "  pad_id: 0\n",
      "  unk_piece: <unk>\n",
      "  bos_piece: <s>\n",
      "  eos_piece: </s>\n",
      "  pad_piece: <pad>\n",
      "  unk_surface:  ⁇ \n",
      "  enable_differential_privacy: 0\n",
      "  differential_privacy_noise_level: 0\n",
      "  differential_privacy_clipping_threshold: 0\n",
      "}\n",
      "normalizer_spec {\n",
      "  name: nmt_nfkc\n",
      "  add_dummy_prefix: 1\n",
      "  remove_extra_whitespaces: 1\n",
      "  escape_whitespaces: 1\n",
      "  normalization_rule_tsv: \n",
      "}\n",
      "denormalizer_spec {}\n",
      "trainer_interface.cc(353) LOG(INFO) SentenceIterator is not specified. Using MultiFileSentenceIterator.\n",
      "trainer_interface.cc(185) LOG(INFO) Loading corpus: en_corpus.txt\n",
      "trainer_interface.cc(409) LOG(INFO) Loaded all 11750 sentences\n",
      "trainer_interface.cc(425) LOG(INFO) Adding meta_piece: <pad>\n",
      "trainer_interface.cc(425) LOG(INFO) Adding meta_piece: <s>\n",
      "trainer_interface.cc(425) LOG(INFO) Adding meta_piece: </s>\n",
      "trainer_interface.cc(425) LOG(INFO) Adding meta_piece: <unk>\n",
      "trainer_interface.cc(430) LOG(INFO) Normalizing sentences...\n",
      "trainer_interface.cc(539) LOG(INFO) all chars count=200110\n",
      "trainer_interface.cc(550) LOG(INFO) Done: 99.9505% characters are covered.\n",
      "trainer_interface.cc(560) LOG(INFO) Alphabet size=862\n",
      "trainer_interface.cc(561) LOG(INFO) Final character coverage=0.999505\n",
      "trainer_interface.cc(592) LOG(INFO) Done! preprocessed 11750 sentences.\n",
      "unigram_model_trainer.cc(265) LOG(INFO) Making suffix array...\n",
      "unigram_model_trainer.cc(269) LOG(INFO) Extracting frequent sub strings... node_num=96376\n",
      "unigram_model_trainer.cc(312) LOG(INFO) Initialized 8057 seed sentencepieces\n",
      "trainer_interface.cc(598) LOG(INFO) Tokenizing input sentences with whitespace: 11750\n",
      "trainer_interface.cc(609) LOG(INFO) Done! 9831\n",
      "unigram_model_trainer.cc(602) LOG(INFO) Using 9831 sentences for EM training\n",
      "unigram_model_trainer.cc(618) LOG(INFO) EM sub_iter=0 size=5150 obj=10.938 num_tokens=21502 num_tokens/piece=4.17515\n",
      "unigram_model_trainer.cc(618) LOG(INFO) EM sub_iter=1 size=4287 obj=10.0412 num_tokens=21549 num_tokens/piece=5.02659\n",
      "trainer_interface.cc(687) LOG(INFO) Saving model: en_tokenizer.model\n",
      "trainer_interface.cc(699) LOG(INFO) Saving vocabs: en_tokenizer.vocab\n"
     ]
    },
    {
     "data": {
      "application/vnd.jupyter.widget-view+json": {
       "model_id": "dafeed9f62c44d9f953cb191a2396184",
       "version_major": 2,
       "version_minor": 0
      },
      "text/plain": [
       "  0%|          | 0/11750 [00:00<?, ?it/s]"
      ]
     },
     "metadata": {},
     "output_type": "display_data"
    },
    {
     "name": "stdout",
     "output_type": "stream",
     "text": [
      "enc_train shape: torch.Size([11750, 24])\n",
      "dec_train shape: torch.Size([11750, 37])\n"
     ]
    }
   ],
   "source": [
    "# 단어 사전 크기 설정\n",
    "SRC_VOCAB_SIZE = 20000  # 한국어 vocab 크기\n",
    "TGT_VOCAB_SIZE = 20000  # 영어 vocab 크기\n",
    "\n",
    "def generate_tokenizer(corpus, vocab_size=20000, lang=\"ko\", pad_id=0, bos_id=1, eos_id=2, unk_id=3):\n",
    "    \"\"\"\n",
    "    SentencePiece 토크나이저 학습 및 로드\n",
    "    - corpus: 학습할 말뭉치 (리스트 형태)\n",
    "    - vocab_size: 단어 사전 크기 (데이터 크기에 맞게 동적으로 설정)\n",
    "    - lang: 언어 식별자 (ko/en 등)\n",
    "    \"\"\"\n",
    "    \n",
    "    # 실제 데이터에서 가능한 단어 수 확인 후 vocab_size 조정\n",
    "    max_vocab_limit = 6989 if lang == \"ko\" else 4563  # 한국어와 영어의 최대 vocab 크기 지정\n",
    "    actual_vocab_size = min(vocab_size, len(set(' '.join(corpus).split())), max_vocab_limit)\n",
    "    \n",
    "    print(f\"{lang} 단어 사전 크기 조정: {actual_vocab_size}\")\n",
    "\n",
    "    # SentencePiece 학습을 위해 임시 파일 생성\n",
    "    temp_file = f\"{lang}_corpus.txt\"\n",
    "    with open(temp_file, \"w\", encoding=\"utf-8\") as f:\n",
    "        f.writelines(sentence + \"\\n\" for sentence in corpus)\n",
    "\n",
    "    # SentencePiece 모델 학습\n",
    "    model_prefix = f\"{lang}_tokenizer\"\n",
    "\n",
    "    spm.SentencePieceTrainer.train(\n",
    "        input=temp_file,  # 파일을 사용하여 학습\n",
    "        model_prefix=model_prefix,\n",
    "        vocab_size=actual_vocab_size,\n",
    "        pad_id=pad_id,\n",
    "        bos_id=bos_id,\n",
    "        eos_id=eos_id,\n",
    "        unk_id=unk_id,\n",
    "        model_type=\"unigram\"\n",
    "    )\n",
    "    \n",
    "    # 학습된 모델 로드\n",
    "    tokenizer = spm.SentencePieceProcessor()\n",
    "    tokenizer.Load(f\"{model_prefix}.model\")\n",
    "    \n",
    "    return tokenizer\n",
    "\n",
    "# 문장 정제 및 토큰화\n",
    "kor_corpus = [preprocess_sentence(k) for k, _ in cleaned_corpus]\n",
    "eng_corpus = [preprocess_sentence(e) for _, e in cleaned_corpus]\n",
    "\n",
    "# 토크나이저 학습 (데이터 크기에 맞게 vocab_size 자동 조정)\n",
    "ko_tokenizer = generate_tokenizer(kor_corpus, SRC_VOCAB_SIZE, \"ko\")\n",
    "en_tokenizer = generate_tokenizer(eng_corpus, TGT_VOCAB_SIZE, \"en\")\n",
    "en_tokenizer.set_encode_extra_options(\"bos:eos\")\n",
    "\n",
    "# 필터링 및 텐서 변환\n",
    "src_corpus = []\n",
    "tgt_corpus = []\n",
    "\n",
    "for k_sent, e_sent in tqdm(zip(kor_corpus, eng_corpus), total=len(kor_corpus)):\n",
    "    src_tokens = ko_tokenizer.EncodeAsIds(k_sent)\n",
    "    tgt_tokens = en_tokenizer.EncodeAsIds(e_sent)\n",
    "    \n",
    "    if len(src_tokens) <= 50 and len(tgt_tokens) <= 50:\n",
    "        src_corpus.append(torch.LongTensor(src_tokens))\n",
    "        tgt_corpus.append(torch.LongTensor(tgt_tokens))\n",
    "\n",
    "# PyTorch에서 패딩 적용\n",
    "pad_id = 0\n",
    "enc_train = pad_sequence(src_corpus, batch_first=True, padding_value=pad_id)\n",
    "dec_train = pad_sequence(tgt_corpus, batch_first=True, padding_value=pad_id)\n",
    "\n",
    "print(\"enc_train shape:\", enc_train.shape)\n",
    "print(\"dec_train shape:\", dec_train.shape)"
   ]
  },
  {
   "cell_type": "code",
   "execution_count": 6,
   "metadata": {},
   "outputs": [
    {
     "name": "stdout",
     "output_type": "stream",
     "text": [
      "ko 단어 사전 크기 조정: 6989\n",
      "en 단어 사전 크기 조정: 4563\n"
     ]
    },
    {
     "name": "stderr",
     "output_type": "stream",
     "text": [
      "sentencepiece_trainer.cc(78) LOG(INFO) Starts training with : \n",
      "trainer_spec {\n",
      "  input: ko_corpus.txt\n",
      "  input_format: \n",
      "  model_prefix: ko_tokenizer\n",
      "  model_type: UNIGRAM\n",
      "  vocab_size: 6989\n",
      "  self_test_sample_size: 0\n",
      "  character_coverage: 0.9995\n",
      "  input_sentence_size: 0\n",
      "  shuffle_input_sentence: 1\n",
      "  seed_sentencepiece_size: 1000000\n",
      "  shrinking_factor: 0.75\n",
      "  max_sentence_length: 4192\n",
      "  num_threads: 16\n",
      "  num_sub_iterations: 2\n",
      "  max_sentencepiece_length: 16\n",
      "  split_by_unicode_script: 1\n",
      "  split_by_number: 1\n",
      "  split_by_whitespace: 1\n",
      "  split_digits: 0\n",
      "  pretokenization_delimiter: \n",
      "  treat_whitespace_as_suffix: 0\n",
      "  allow_whitespace_only_pieces: 0\n",
      "  required_chars: \n",
      "  byte_fallback: 0\n",
      "  vocabulary_output_piece_score: 1\n",
      "  train_extremely_large_corpus: 0\n",
      "  seed_sentencepieces_file: \n",
      "  hard_vocab_limit: 1\n",
      "  use_all_vocab: 0\n",
      "  unk_id: 3\n",
      "  bos_id: 1\n",
      "  eos_id: 2\n",
      "  pad_id: 0\n",
      "  unk_piece: <unk>\n",
      "  bos_piece: <s>\n",
      "  eos_piece: </s>\n",
      "  pad_piece: <pad>\n",
      "  unk_surface:  ⁇ \n",
      "  enable_differential_privacy: 0\n",
      "  differential_privacy_noise_level: 0\n",
      "  differential_privacy_clipping_threshold: 0\n",
      "}\n",
      "normalizer_spec {\n",
      "  name: nmt_nfkc\n",
      "  add_dummy_prefix: 1\n",
      "  remove_extra_whitespaces: 1\n",
      "  escape_whitespaces: 1\n",
      "  normalization_rule_tsv: \n",
      "}\n",
      "denormalizer_spec {}\n",
      "trainer_interface.cc(353) LOG(INFO) SentenceIterator is not specified. Using MultiFileSentenceIterator.\n",
      "trainer_interface.cc(185) LOG(INFO) Loading corpus: ko_corpus.txt\n",
      "trainer_interface.cc(409) LOG(INFO) Loaded all 11750 sentences\n",
      "trainer_interface.cc(425) LOG(INFO) Adding meta_piece: <pad>\n",
      "trainer_interface.cc(425) LOG(INFO) Adding meta_piece: <s>\n",
      "trainer_interface.cc(425) LOG(INFO) Adding meta_piece: </s>\n",
      "trainer_interface.cc(425) LOG(INFO) Adding meta_piece: <unk>\n",
      "trainer_interface.cc(430) LOG(INFO) Normalizing sentences...\n",
      "trainer_interface.cc(539) LOG(INFO) all chars count=166720\n",
      "trainer_interface.cc(550) LOG(INFO) Done: 99.9502% characters are covered.\n",
      "trainer_interface.cc(560) LOG(INFO) Alphabet size=1047\n",
      "trainer_interface.cc(561) LOG(INFO) Final character coverage=0.999502\n",
      "trainer_interface.cc(592) LOG(INFO) Done! preprocessed 11750 sentences.\n",
      "unigram_model_trainer.cc(265) LOG(INFO) Making suffix array...\n",
      "unigram_model_trainer.cc(269) LOG(INFO) Extracting frequent sub strings... node_num=68380\n",
      "unigram_model_trainer.cc(312) LOG(INFO) Initialized 12559 seed sentencepieces\n",
      "trainer_interface.cc(598) LOG(INFO) Tokenizing input sentences with whitespace: 11750\n",
      "trainer_interface.cc(609) LOG(INFO) Done! 13234\n",
      "unigram_model_trainer.cc(602) LOG(INFO) Using 13234 sentences for EM training\n",
      "unigram_model_trainer.cc(618) LOG(INFO) EM sub_iter=0 size=7425 obj=11.3159 num_tokens=25856 num_tokens/piece=3.48229\n",
      "unigram_model_trainer.cc(618) LOG(INFO) EM sub_iter=1 size=6711 obj=10.5478 num_tokens=25946 num_tokens/piece=3.86619\n",
      "trainer_interface.cc(687) LOG(INFO) Saving model: ko_tokenizer.model\n",
      "trainer_interface.cc(699) LOG(INFO) Saving vocabs: ko_tokenizer.vocab\n",
      "sentencepiece_trainer.cc(78) LOG(INFO) Starts training with : \n",
      "trainer_spec {\n",
      "  input: en_corpus.txt\n",
      "  input_format: \n",
      "  model_prefix: en_tokenizer\n",
      "  model_type: UNIGRAM\n",
      "  vocab_size: 4563\n",
      "  self_test_sample_size: 0\n",
      "  character_coverage: 0.9995\n",
      "  input_sentence_size: 0\n",
      "  shuffle_input_sentence: 1\n",
      "  seed_sentencepiece_size: 1000000\n",
      "  shrinking_factor: 0.75\n",
      "  max_sentence_length: 4192\n",
      "  num_threads: 16\n",
      "  num_sub_iterations: 2\n",
      "  max_sentencepiece_length: 16\n",
      "  split_by_unicode_script: 1\n",
      "  split_by_number: 1\n",
      "  split_by_whitespace: 1\n",
      "  split_digits: 0\n",
      "  pretokenization_delimiter: \n",
      "  treat_whitespace_as_suffix: 0\n",
      "  allow_whitespace_only_pieces: 0\n",
      "  required_chars: \n",
      "  byte_fallback: 0\n",
      "  vocabulary_output_piece_score: 1\n",
      "  train_extremely_large_corpus: 0\n",
      "  seed_sentencepieces_file: \n",
      "  hard_vocab_limit: 1\n",
      "  use_all_vocab: 0\n",
      "  unk_id: 3\n",
      "  bos_id: 1\n",
      "  eos_id: 2\n",
      "  pad_id: 0\n",
      "  unk_piece: <unk>\n",
      "  bos_piece: <s>\n",
      "  eos_piece: </s>\n",
      "  pad_piece: <pad>\n",
      "  unk_surface:  ⁇ \n",
      "  enable_differential_privacy: 0\n",
      "  differential_privacy_noise_level: 0\n",
      "  differential_privacy_clipping_threshold: 0\n",
      "}\n",
      "normalizer_spec {\n",
      "  name: nmt_nfkc\n",
      "  add_dummy_prefix: 1\n",
      "  remove_extra_whitespaces: 1\n",
      "  escape_whitespaces: 1\n",
      "  normalization_rule_tsv: \n",
      "}\n",
      "denormalizer_spec {}\n",
      "trainer_interface.cc(353) LOG(INFO) SentenceIterator is not specified. Using MultiFileSentenceIterator.\n",
      "trainer_interface.cc(185) LOG(INFO) Loading corpus: en_corpus.txt\n",
      "trainer_interface.cc(409) LOG(INFO) Loaded all 11750 sentences\n",
      "trainer_interface.cc(425) LOG(INFO) Adding meta_piece: <pad>\n",
      "trainer_interface.cc(425) LOG(INFO) Adding meta_piece: <s>\n",
      "trainer_interface.cc(425) LOG(INFO) Adding meta_piece: </s>\n",
      "trainer_interface.cc(425) LOG(INFO) Adding meta_piece: <unk>\n",
      "trainer_interface.cc(430) LOG(INFO) Normalizing sentences...\n",
      "trainer_interface.cc(539) LOG(INFO) all chars count=200110\n",
      "trainer_interface.cc(550) LOG(INFO) Done: 99.9505% characters are covered.\n",
      "trainer_interface.cc(560) LOG(INFO) Alphabet size=862\n",
      "trainer_interface.cc(561) LOG(INFO) Final character coverage=0.999505\n",
      "trainer_interface.cc(592) LOG(INFO) Done! preprocessed 11750 sentences.\n",
      "unigram_model_trainer.cc(265) LOG(INFO) Making suffix array...\n",
      "unigram_model_trainer.cc(269) LOG(INFO) Extracting frequent sub strings... node_num=96376\n",
      "unigram_model_trainer.cc(312) LOG(INFO) Initialized 8057 seed sentencepieces\n",
      "trainer_interface.cc(598) LOG(INFO) Tokenizing input sentences with whitespace: 11750\n",
      "trainer_interface.cc(609) LOG(INFO) Done! 9831\n",
      "unigram_model_trainer.cc(602) LOG(INFO) Using 9831 sentences for EM training\n",
      "unigram_model_trainer.cc(618) LOG(INFO) EM sub_iter=0 size=5150 obj=10.938 num_tokens=21502 num_tokens/piece=4.17515\n",
      "unigram_model_trainer.cc(618) LOG(INFO) EM sub_iter=1 size=4287 obj=10.0412 num_tokens=21549 num_tokens/piece=5.02659\n",
      "trainer_interface.cc(687) LOG(INFO) Saving model: en_tokenizer.model\n",
      "trainer_interface.cc(699) LOG(INFO) Saving vocabs: en_tokenizer.vocab\n"
     ]
    },
    {
     "data": {
      "application/vnd.jupyter.widget-view+json": {
       "model_id": "2899c78052b740a5beab236a75174613",
       "version_major": 2,
       "version_minor": 0
      },
      "text/plain": [
       "  0%|          | 0/11750 [00:00<?, ?it/s]"
      ]
     },
     "metadata": {},
     "output_type": "display_data"
    },
    {
     "name": "stdout",
     "output_type": "stream",
     "text": [
      "enc_train shape: torch.Size([11750, 24])\n",
      "dec_train shape: torch.Size([11750, 37])\n"
     ]
    }
   ],
   "source": [
    "# 문장 정제 및 토큰화 (리스트 컴프리헨션 활용)\n",
    "kor_corpus = [preprocess_sentence(k) for k, _ in cleaned_corpus]\n",
    "eng_corpus = [preprocess_sentence(e) for _, e in cleaned_corpus]\n",
    "\n",
    "# SentencePiece 토크나이저 학습\n",
    "ko_tokenizer = generate_tokenizer(kor_corpus, SRC_VOCAB_SIZE, \"ko\")\n",
    "en_tokenizer = generate_tokenizer(eng_corpus, TGT_VOCAB_SIZE, \"en\")\n",
    "en_tokenizer.set_encode_extra_options(\"bos:eos\")\n",
    "\n",
    "src_corpus = []\n",
    "tgt_corpus = []\n",
    "\n",
    "assert len(kor_corpus) == len(eng_corpus), \"한국어와 영어 문장 수가 일치하지 않습니다!\"\n",
    "\n",
    "# 토큰 길이가 50 이하인 문장만 필터링 (tqdm 최적화)\n",
    "for k_sent, e_sent in tqdm(zip(kor_corpus, eng_corpus), total=len(kor_corpus)):\n",
    "    src_tokens = ko_tokenizer.EncodeAsIds(k_sent)\n",
    "    tgt_tokens = en_tokenizer.EncodeAsIds(e_sent)\n",
    "    \n",
    "    if len(src_tokens) <= 50 and len(tgt_tokens) <= 50:\n",
    "        src_corpus.append(torch.LongTensor(src_tokens))\n",
    "        tgt_corpus.append(torch.LongTensor(tgt_tokens))\n",
    "\n",
    "# PyTorch에서 패딩 적용 (post-padding)\n",
    "pad_id = 0  # 패딩 값 명확하게 지정\n",
    "enc_train = pad_sequence(src_corpus, batch_first=True, padding_value=pad_id)\n",
    "dec_train = pad_sequence(tgt_corpus, batch_first=True, padding_value=pad_id)\n",
    "\n",
    "# 데이터 확인\n",
    "print(\"enc_train shape:\", enc_train.shape)  # (batch_size, max_seq_len)\n",
    "print(\"dec_train shape:\", dec_train.shape)  # (batch_size, max_seq_len)"
   ]
  },
  {
   "cell_type": "markdown",
   "metadata": {},
   "source": [
    "- 로컬에서 ko.bin을 불러오는 과정에서 오류가 생겨 로컬 파일(ko.bin)을 사용하지 않고, 온라인에서 한국어 FastText 모델을 다운로드하여 사용"
   ]
  },
  {
   "cell_type": "code",
   "execution_count": 7,
   "metadata": {},
   "outputs": [
    {
     "name": "stdout",
     "output_type": "stream",
     "text": [
      "FastText 한국어 모델을 다운로드 중...\n",
      "모델 다운로드 완료!\n"
     ]
    },
    {
     "data": {
      "application/vnd.jupyter.widget-view+json": {
       "model_id": "c549c9ccd3844696a735280738d7b904",
       "version_major": 2,
       "version_minor": 0
      },
      "text/plain": [
       "Augmenting Questions:   0%|          | 0/11750 [00:00<?, ?it/s]"
      ]
     },
     "metadata": {},
     "output_type": "display_data"
    },
    {
     "data": {
      "application/vnd.jupyter.widget-view+json": {
       "model_id": "b5546b5706c548939c6efe8384917d2e",
       "version_major": 2,
       "version_minor": 0
      },
      "text/plain": [
       "Augmenting Answers:   0%|          | 0/11750 [00:00<?, ?it/s]"
      ]
     },
     "metadata": {},
     "output_type": "display_data"
    },
    {
     "name": "stdout",
     "output_type": "stream",
     "text": [
      "\n",
      "랜덤 샘플 10개:\n",
      "1. Q: 운명인가 | A: 인연인가 봐요 .\n",
      "2. Q: 홈쇼핑에서 자꾸 사게되네 | A: 지름신이 강림했나봅니다 ?\n",
      "3. Q: 헤어지자는 말을 듣고 다시 잡고 또 그 다음의 연애 | A: 관계의 개선을 위해 함께 많은 노력을 해보세요 .\n",
      "4. Q: 공시 준비하는데 연애하면 안되겠지 ? | A: 좋은 뭐가 중요한지 객관적으로 생각해보세요 .\n",
      "5. Q: 사랑하는데 미지근한 거 같아 | A: 불타오르는 사랑만 사랑인건 아니에요 .\n",
      "6. Q: 그녀도 나를 좋아했으면 좋겠는데 . | A: 그럼 더할 나위 없겠지요 .\n",
      "7. Q: 내가 무의식 중에 무시하는 듯한 말투를 썼어 | A: 상대방을 존중해주세요 .\n",
      "8. Q: 연인끼리 같이 샤워해 ? | A: 사람마다 다릅니다 .\n",
      "9. Q: 연애 잘하는 사람 부러워 | A: 잘할 수 있어요 .\n",
      "10. Q: 복수전공하고 싶어 | A: 학점 관리하세요 .\n",
      "\n",
      "데이터 개수 비교\n",
      "원본 데이터 개수: 11750\n",
      "증가한 데이터 개수: 35250 (3배 증가)\n"
     ]
    }
   ],
   "source": [
    "# 1. FastText 한국어 모델 다운로드 및 로드\n",
    "print(\"FastText 한국어 모델을 다운로드 중...\")\n",
    "w2v_model = api.load(\"fasttext-wiki-news-subwords-300\")\n",
    "print(\"모델 다운로드 완료!\")\n",
    "\n",
    "# 2. Lexical Substitution 함수 정의\n",
    "def lexical_sub(sentence, w2v_model, top_n=5, prob=0.3):\n",
    "    \"\"\"\n",
    "    주어진 문장에 대해 일부 단어를 유사한 단어로 치환하는 함수\n",
    "    - sentence: 입력 문장 (string)\n",
    "    - w2v_model: 사전 훈련된 Word2Vec/FastText 모델\n",
    "    - top_n: 대체 후보 개수\n",
    "    - prob: 단어 대체 확률\n",
    "    \"\"\"\n",
    "    words = sentence.split()\n",
    "    new_words = []\n",
    "\n",
    "    for word in words:\n",
    "        if word in w2v_model.key_to_index and random.random() < prob:  # 일정 확률로 대체\n",
    "            similar_words = [w for w, _ in w2v_model.most_similar(word, topn=top_n)]\n",
    "            new_words.append(random.choice(similar_words))  # 랜덤하게 대체\n",
    "        else:\n",
    "            new_words.append(word)  # 변경 없이 그대로 유지\n",
    "    \n",
    "    return \" \".join(new_words)\n",
    "\n",
    "# 3. 데이터 증강 진행\n",
    "aug_que_corpus = [lexical_sub(q, w2v_model) for q in tqdm(kor_corpus, desc=\"Augmenting Questions\")]\n",
    "aug_ans_corpus = [lexical_sub(a, w2v_model) for a in tqdm(eng_corpus, desc=\"Augmenting Answers\")]\n",
    "\n",
    "# 4. 병렬 데이터 구성 (총 3배 증가)\n",
    "expanded_que_corpus = (\n",
    "    kor_corpus +        # 원본 질문 데이터\n",
    "    aug_que_corpus +    # 질문을 Augmentation한 데이터\n",
    "    kor_corpus          # 원본 질문 데이터 (답변 Augmentation과 매칭)\n",
    ")\n",
    "\n",
    "expanded_ans_corpus = (\n",
    "    eng_corpus +        # 원본 답변 데이터\n",
    "    eng_corpus +        # 원본 답변 데이터 (질문 Augmentation과 매칭)\n",
    "    aug_ans_corpus      # 답변을 Augmentation한 데이터\n",
    ")\n",
    "\n",
    "# 5. 데이터 검증 - 랜덤 샘플 10개 출력\n",
    "sample_size = min(10, len(expanded_que_corpus))\n",
    "random_samples = random.sample(list(zip(expanded_que_corpus, expanded_ans_corpus)), sample_size)\n",
    "\n",
    "print(\"\\n랜덤 샘플 10개:\")\n",
    "for i, (q, a) in enumerate(random_samples, 1):\n",
    "    print(f\"{i}. Q: {q} | A: {a}\")\n",
    "\n",
    "# 6. 증가한 데이터 개수 출력\n",
    "print(\"\\n데이터 개수 비교\")\n",
    "print(f\"원본 데이터 개수: {len(kor_corpus)}\")\n",
    "print(f\"증가한 데이터 개수: {len(expanded_que_corpus)} (3배 증가)\")"
   ]
  },
  {
   "cell_type": "code",
   "execution_count": 8,
   "metadata": {},
   "outputs": [
    {
     "name": "stdout",
     "output_type": "stream",
     "text": [
      "단어 사전 크기: 20550\n",
      "단어 사전 예시: [('<pad>', 0), ('<start>', 1), ('<end>', 2), ('<unk>', 3), ('!', 4), ('\"', 5), ('*', 6), (',', 7), ('-', 8), ('.', 9)]\n",
      "Vectorized encoder input (예시): [7429, 12950, 0, 0, 0, 0, 0, 0, 0, 0, 0, 0, 0, 0, 0, 0]\n",
      "Vectorized decoder input (예시): [1, 1915, 9, 2, 0, 0, 0, 0, 0, 0, 0, 0, 0, 0, 0, 0, 0, 0, 0, 0, 0, 0, 0, 0, 0, 0]\n"
     ]
    }
   ],
   "source": [
    "from collections import Counter\n",
    "\n",
    "#############################################\n",
    "# 1. 답변 데이터에 <start>와 <end> 토큰 추가\n",
    "#############################################\n",
    "# expanded_ans_corpus는 기존에 구성된 증강 답변 데이터입니다.\n",
    "expanded_ans_corpus_special = [f\"<start> {ans} <end>\" for ans in expanded_ans_corpus]\n",
    "\n",
    "#############################################\n",
    "# 2. 전체 데이터에 대한 단어 사전 구축\n",
    "#############################################\n",
    "# 질문과 답변 데이터를 모두 결합하여 전체 문장을 만듭니다.\n",
    "combined_corpus = expanded_que_corpus + expanded_ans_corpus_special\n",
    "\n",
    "# 간단히 공백 기준 tokenize (실제 상황에 따라 더 정교한 토크나이저 사용 가능)\n",
    "all_tokens = []\n",
    "for sentence in combined_corpus:\n",
    "    all_tokens.extend(sentence.split())\n",
    "\n",
    "# 각 토큰의 빈도 계산\n",
    "token_counts = Counter(all_tokens)\n",
    "\n",
    "# 특수 토큰 (패딩, 시작, 종료, 미등록)\n",
    "special_tokens = [\"<pad>\", \"<start>\", \"<end>\", \"<unk>\"]\n",
    "\n",
    "# 특수 토큰을 우선 추가한 후, 나머지 토큰들을 빈도 순 혹은 알파벳 순으로 정렬하여 vocabulary 구성\n",
    "vocab = special_tokens + sorted([token for token in token_counts if token not in special_tokens])\n",
    "word2idx = {word: idx for idx, word in enumerate(vocab)}\n",
    "idx2word = {idx: word for word, idx in word2idx.items()}\n",
    "\n",
    "print(\"단어 사전 크기:\", len(vocab))\n",
    "# 예시로 사전의 일부 확인\n",
    "print(\"단어 사전 예시:\", list(word2idx.items())[:10])\n",
    "\n",
    "#############################################\n",
    "# 3. 문장 벡터화 함수 정의\n",
    "#############################################\n",
    "def vectorize_sentence(sentence, word2idx):\n",
    "    # 토큰별로 인덱스로 변환, 사전에 없으면 <unk> 인덱스로 대체\n",
    "    return [word2idx.get(token, word2idx[\"<unk>\"]) for token in sentence.split()]\n",
    "\n",
    "# 질문(encoder input) 벡터화\n",
    "enc_train = [vectorize_sentence(sentence, word2idx) for sentence in expanded_que_corpus]\n",
    "# 답변(Decoder input) 벡터화 - special 토큰이 추가된 답변 사용\n",
    "dec_train = [vectorize_sentence(sentence, word2idx) for sentence in expanded_ans_corpus_special]\n",
    "\n",
    "#############################################\n",
    "# 4. 패딩 함수 정의 (옵션)\n",
    "#############################################\n",
    "def pad_sequences(sequences, pad_value, max_length=None):\n",
    "    if max_length is None:\n",
    "        max_length = max(len(seq) for seq in sequences)\n",
    "    padded_sequences = []\n",
    "    for seq in sequences:\n",
    "        padded_seq = seq + [pad_value] * (max_length - len(seq))\n",
    "        padded_sequences.append(padded_seq)\n",
    "    return padded_sequences\n",
    "\n",
    "# <pad> 토큰의 인덱스\n",
    "pad_value = word2idx[\"<pad>\"]\n",
    "\n",
    "# enc_train과 dec_train을 최대 길이에 맞춰 패딩 처리\n",
    "enc_train_padded = pad_sequences(enc_train, pad_value)\n",
    "dec_train_padded = pad_sequences(dec_train, pad_value)\n",
    "\n",
    "print(\"Vectorized encoder input (예시):\", enc_train_padded[0])\n",
    "print(\"Vectorized decoder input (예시):\", dec_train_padded[0])"
   ]
  },
  {
   "cell_type": "code",
   "execution_count": 10,
   "metadata": {},
   "outputs": [],
   "source": [
    "#############################################\n",
    "# Positional Encoding\n",
    "#############################################\n",
    "class PositionalEncoding(nn.Module):\n",
    "    def __init__(self, d_model, dropout=0.1, max_len=5000):\n",
    "        super(PositionalEncoding, self).__init__()\n",
    "        self.dropout = nn.Dropout(p=dropout)\n",
    "\n",
    "        pe = torch.zeros(max_len, d_model)\n",
    "        position = torch.arange(0, max_len, dtype=torch.float).unsqueeze(1)\n",
    "        div_term = torch.exp(torch.arange(0, d_model, 2, dtype=torch.float) * (-math.log(10000.0) / d_model))\n",
    "        pe[:, 0::2] = torch.sin(position * div_term)\n",
    "        pe[:, 1::2] = torch.cos(position * div_term)\n",
    "        pe = pe.unsqueeze(0)  # (1, max_len, d_model)\n",
    "        self.register_buffer('pe', pe)\n",
    "\n",
    "    def forward(self, x):\n",
    "        x = x + self.pe[:, :x.size(1)]\n",
    "        return self.dropout(x)\n",
    "\n",
    "#############################################\n",
    "# Encoder 레이어 (attention weight 반환)\n",
    "#############################################\n",
    "class TransformerEncoderLayerWithAttn(nn.Module):\n",
    "    def __init__(self, d_model, num_heads, dff, dropout=0.1):\n",
    "        super(TransformerEncoderLayerWithAttn, self).__init__()\n",
    "        self.self_attn = nn.MultiheadAttention(embed_dim=d_model, num_heads=num_heads, \n",
    "                                               dropout=dropout, batch_first=True)\n",
    "        self.linear1 = nn.Linear(d_model, dff)\n",
    "        self.linear2 = nn.Linear(dff, d_model)\n",
    "        self.dropout_attn = nn.Dropout(dropout)\n",
    "        self.dropout_ff = nn.Dropout(dropout)\n",
    "        self.norm1 = nn.LayerNorm(d_model)\n",
    "        self.norm2 = nn.LayerNorm(d_model)\n",
    "        self.activation = nn.ReLU()\n",
    "\n",
    "    def forward(self, src, src_mask=None, src_key_padding_mask=None):\n",
    "        attn_output, attn_weights = self.self_attn(src, src, src, \n",
    "                                                   attn_mask=src_mask, \n",
    "                                                   key_padding_mask=src_key_padding_mask, \n",
    "                                                   need_weights=True)\n",
    "        src = self.norm1(src + self.dropout_attn(attn_output))\n",
    "        ff_output = self.linear2(self.dropout_ff(self.activation(self.linear1(src))))\n",
    "        src = self.norm2(src + ff_output)\n",
    "        return src, attn_weights\n",
    "\n",
    "#############################################\n",
    "# Decoder 레이어 (attention weight 반환)\n",
    "#############################################\n",
    "class TransformerDecoderLayerWithAttn(nn.Module):\n",
    "    def __init__(self, d_model, num_heads, dff, dropout=0.1):\n",
    "        super(TransformerDecoderLayerWithAttn, self).__init__()\n",
    "        self.self_attn = nn.MultiheadAttention(embed_dim=d_model, num_heads=num_heads, \n",
    "                                               dropout=dropout, batch_first=True)\n",
    "        self.enc_dec_attn = nn.MultiheadAttention(embed_dim=d_model, num_heads=num_heads, \n",
    "                                                  dropout=dropout, batch_first=True)\n",
    "        self.linear1 = nn.Linear(d_model, dff)\n",
    "        self.linear2 = nn.Linear(dff, d_model)\n",
    "        self.dropout_self = nn.Dropout(dropout)\n",
    "        self.dropout_enc_dec = nn.Dropout(dropout)\n",
    "        self.dropout_ff = nn.Dropout(dropout)\n",
    "        self.norm1 = nn.LayerNorm(d_model)\n",
    "        self.norm2 = nn.LayerNorm(d_model)\n",
    "        self.norm3 = nn.LayerNorm(d_model)\n",
    "        self.activation = nn.ReLU()\n",
    "\n",
    "    def forward(self, tgt, memory, tgt_mask=None, memory_mask=None,\n",
    "                tgt_key_padding_mask=None, memory_key_padding_mask=None):\n",
    "        self_attn_output, self_attn_weights = self.self_attn(tgt, tgt, tgt, \n",
    "                                                              attn_mask=tgt_mask, \n",
    "                                                              key_padding_mask=tgt_key_padding_mask,\n",
    "                                                              need_weights=True)\n",
    "        tgt = self.norm1(tgt + self.dropout_self(self_attn_output))\n",
    "        enc_dec_attn_output, enc_dec_attn_weights = self.enc_dec_attn(tgt, memory, memory, \n",
    "                                                                      attn_mask=memory_mask,\n",
    "                                                                      key_padding_mask=memory_key_padding_mask,\n",
    "                                                                      need_weights=True)\n",
    "        tgt = self.norm2(tgt + self.dropout_enc_dec(enc_dec_attn_output))\n",
    "        ff_output = self.linear2(self.dropout_ff(self.activation(self.linear1(tgt))))\n",
    "        tgt = self.norm3(tgt + ff_output)\n",
    "        return tgt, self_attn_weights, enc_dec_attn_weights\n",
    "\n",
    "#############################################\n",
    "# 전체 Transformer 모델\n",
    "#############################################\n",
    "class TransformerWithAttn(nn.Module):\n",
    "    def __init__(self, num_layers=2, d_model=512, num_heads=8, dff=2048, \n",
    "                 input_vocab_size=20000, target_vocab_size=20000, dropout=0.1):\n",
    "        super(TransformerWithAttn, self).__init__()\n",
    "        self.encoder_embedding = nn.Embedding(input_vocab_size, d_model)\n",
    "        self.decoder_embedding = nn.Embedding(target_vocab_size, d_model)\n",
    "        self.pos_encoding = PositionalEncoding(d_model, dropout)\n",
    "        \n",
    "        self.encoder_layers = nn.ModuleList([\n",
    "            TransformerEncoderLayerWithAttn(d_model, num_heads, dff, dropout) for _ in range(num_layers)\n",
    "        ])\n",
    "        self.decoder_layers = nn.ModuleList([\n",
    "            TransformerDecoderLayerWithAttn(d_model, num_heads, dff, dropout) for _ in range(num_layers)\n",
    "        ])\n",
    "        \n",
    "        self.final_layer = nn.Linear(d_model, target_vocab_size)\n",
    "        # 선택 사항: 임베딩 가중치 공유 (Tied Embeddings)\n",
    "        self.final_layer.weight = self.decoder_embedding.weight\n",
    "\n",
    "    def forward(self, src, tgt, src_mask=None, tgt_mask=None, memory_mask=None,\n",
    "                src_key_padding_mask=None, tgt_key_padding_mask=None, memory_key_padding_mask=None):\n",
    "        # 입력은 이미 동일한 device에 있다고 가정합니다.\n",
    "        src_emb = self.pos_encoding(self.encoder_embedding(src))\n",
    "        tgt_emb = self.pos_encoding(self.decoder_embedding(tgt))\n",
    "        \n",
    "        enc_attns = []\n",
    "        for layer in self.encoder_layers:\n",
    "            src_emb, attn_weights = layer(src_emb, src_mask, src_key_padding_mask)\n",
    "            enc_attns.append(attn_weights)\n",
    "        \n",
    "        dec_attns, dec_enc_attns = [], []\n",
    "        for layer in self.decoder_layers:\n",
    "            tgt_emb, self_attn_weights, enc_dec_attn_weights = layer(\n",
    "                tgt_emb, src_emb, tgt_mask, memory_mask, tgt_key_padding_mask, memory_key_padding_mask)\n",
    "            dec_attns.append(self_attn_weights)\n",
    "            dec_enc_attns.append(enc_dec_attn_weights)\n",
    "        \n",
    "        final_output = self.final_layer(tgt_emb)\n",
    "        return final_output, enc_attns, dec_attns, dec_enc_attns"
   ]
  },
  {
   "cell_type": "code",
   "execution_count": 12,
   "metadata": {},
   "outputs": [
    {
     "name": "stdout",
     "output_type": "stream",
     "text": [
      "Using device: mps\n",
      "Step 10: Learning Rate = 0.00000000\n",
      "Step 100: Learning Rate = 0.00000000\n",
      "Step 1000: Learning Rate = 0.00000000\n",
      "Step 4000: Learning Rate = 0.00000000\n"
     ]
    },
    {
     "name": "stderr",
     "output_type": "stream",
     "text": [
      "/Library/Frameworks/Python.framework/Versions/3.10/lib/python3.10/site-packages/torch/optim/lr_scheduler.py:143: UserWarning: Detected call of `lr_scheduler.step()` before `optimizer.step()`. In PyTorch 1.1.0 and later, you should call them in the opposite order: `optimizer.step()` before `lr_scheduler.step()`.  Failure to do this will result in PyTorch skipping the first value of the learning rate schedule. See more details at https://pytorch.org/docs/stable/optim.html#how-to-adjust-learning-rate\n",
      "  warnings.warn(\"Detected call of `lr_scheduler.step()` before `optimizer.step()`. \"\n"
     ]
    }
   ],
   "source": [
    "#############################################\n",
    "# 디바이스 자동 감지 (GPU / MPS / CPU)\n",
    "#############################################\n",
    "device = torch.device(\n",
    "    \"cuda\" if torch.cuda.is_available() else \"mps\" if hasattr(torch.backends, \"mps\") and torch.backends.mps.is_available() else \"cpu\"\n",
    ")\n",
    "print(f\"Using device: {device}\")\n",
    "\n",
    "#############################################\n",
    "# 실제 챗봇 모델 (Transformer 기반) 사용\n",
    "#############################################\n",
    "transformer = TransformerWithAttn(\n",
    "    num_layers=2,\n",
    "    d_model=512,  # 실제 모델의 d_model과 일치해야 함\n",
    "    num_heads=8,\n",
    "    dff=2048,\n",
    "    input_vocab_size=SRC_VOCAB_SIZE,\n",
    "    target_vocab_size=TGT_VOCAB_SIZE,\n",
    "    dropout=0.1\n",
    ").to(device)\n",
    "\n",
    "#############################################\n",
    "# Learning Rate Scheduler (논문 기반)\n",
    "#############################################\n",
    "class CustomSchedule(optim.lr_scheduler.LambdaLR):\n",
    "    def __init__(self, optimizer, d_model, warmup_steps=4000, last_epoch=-1):\n",
    "        self.d_model = d_model\n",
    "        self.warmup_steps = warmup_steps\n",
    "        super(CustomSchedule, self).__init__(optimizer, lambda step: self.lr_lambda(step), last_epoch=last_epoch)\n",
    "\n",
    "    def lr_lambda(self, step):\n",
    "        # step이 0인 경우를 방지\n",
    "        step = max(1, step)\n",
    "        arg1 = step ** -0.5\n",
    "        arg2 = step * (self.warmup_steps ** -1.5)\n",
    "        return (self.d_model ** -0.5) * min(arg1, arg2)\n",
    "\n",
    "# 하이퍼파라미터 설정\n",
    "d_model = 512\n",
    "warmup_steps = 4000\n",
    "\n",
    "# 옵티마이저 및 스케줄러 설정\n",
    "optimizer = optim.AdamW(transformer.parameters(), lr=0, betas=(0.9, 0.98), eps=1e-9, weight_decay=0.01)\n",
    "scheduler = CustomSchedule(optimizer, d_model=512, warmup_steps=4000)\n",
    "\n",
    "def print_lr(step):\n",
    "    lr = scheduler.get_last_lr()[0]\n",
    "    print(f\"Step {step}: Learning Rate = {lr:.8f}\")\n",
    "\n",
    "# 예시: 스텝 별 학습률 확인\n",
    "for step in [10, 100, 1000, 4000]:\n",
    "    scheduler.step()\n",
    "    print_lr(step)"
   ]
  },
  {
   "cell_type": "code",
   "execution_count": 13,
   "metadata": {},
   "outputs": [],
   "source": [
    "#############################################\n",
    "# 손실 및 마스크 함수\n",
    "#############################################\n",
    "criterion = nn.CrossEntropyLoss(ignore_index=0, reduction='mean')\n",
    "\n",
    "def loss_function(real, pred):\n",
    "    return criterion(pred.view(-1, pred.shape[-1]), real.view(-1))\n",
    "\n",
    "def create_padding_mask(seq):\n",
    "    # (batch, seq_len) 모양의 boolean mask (입력 tensor와 동일한 device)\n",
    "    return (seq == 0)\n",
    "\n",
    "def create_look_ahead_mask(size):\n",
    "    # 기본적으로 CPU에 생성되므로, 나중에 target의 device로 이동\n",
    "    mask = torch.triu(torch.ones((size, size), dtype=torch.float32), diagonal=1)\n",
    "    return mask.masked_fill(mask == 1, float('-inf'))\n",
    "\n",
    "def generate_masks(src, tgt):\n",
    "    \"\"\"\n",
    "    src: (batch, src_seq_len)\n",
    "    tgt: (batch, tgt_seq_len)\n",
    "    \n",
    "    반환:\n",
    "      src_key_padding_mask: (batch, src_seq_len)\n",
    "      tgt_key_padding_mask: (batch, tgt_seq_len)\n",
    "      dec_mask: (tgt_seq_len, tgt_seq_len) (look-ahead mask)\n",
    "    \"\"\"\n",
    "    src_key_padding_mask = create_padding_mask(src)\n",
    "    tgt_key_padding_mask = create_padding_mask(tgt)\n",
    "    # 생성된 룩어헤드 mask를 tgt와 동일한 device로 이동\n",
    "    dec_mask = create_look_ahead_mask(tgt.size(1)).to(tgt.device)\n",
    "    return src_key_padding_mask, tgt_key_padding_mask, dec_mask\n",
    "\n",
    "#############################################\n",
    "# 학습 스텝 함수 정의\n",
    "#############################################\n",
    "def train_step(src, tgt, model, optimizer, criterion):\n",
    "    model.train()  # 모델을 학습 모드로 전환\n",
    "    src, tgt = src.to(device), tgt.to(device)\n",
    "    \n",
    "    # <BOS> 토큰을 제외한 입력 및 정답 생성\n",
    "    tgt_input = tgt[:, :-1]\n",
    "    gold = tgt[:, 1:].reshape(-1)\n",
    "    \n",
    "    # 마스크 생성: encoder와 decoder에 각각 key_padding_mask, decoder는 look-ahead mask (attn_mask)\n",
    "    src_key_padding_mask, tgt_key_padding_mask, dec_mask = generate_masks(src, tgt_input)\n",
    "    \n",
    "    optimizer.zero_grad()\n",
    "    predictions, _, _, _ = model(\n",
    "        src, \n",
    "        tgt_input, \n",
    "        tgt_mask=dec_mask, \n",
    "        src_key_padding_mask=src_key_padding_mask, \n",
    "        tgt_key_padding_mask=tgt_key_padding_mask, \n",
    "        memory_key_padding_mask=src_key_padding_mask\n",
    "    )\n",
    "    \n",
    "    # 손실 계산\n",
    "    loss = criterion(predictions.view(-1, predictions.shape[-1]), gold)\n",
    "    loss.backward()\n",
    "    optimizer.step()\n",
    "    \n",
    "    return loss.item()"
   ]
  },
  {
   "cell_type": "code",
   "execution_count": 16,
   "metadata": {},
   "outputs": [
    {
     "data": {
      "application/vnd.jupyter.widget-view+json": {
       "model_id": "b9d8c53e258842cab2c1ae2becf9127d",
       "version_major": 2,
       "version_minor": 0
      },
      "text/plain": [
       "Epoch 1:   0%|          | 0/276 [00:00<?, ?it/s]"
      ]
     },
     "metadata": {},
     "output_type": "display_data"
    },
    {
     "name": "stderr",
     "output_type": "stream",
     "text": [
      "/Library/Frameworks/Python.framework/Versions/3.10/lib/python3.10/site-packages/torch/nn/functional.py:5137: UserWarning: Support for mismatched key_padding_mask and attn_mask is deprecated. Use same type for both instead.\n",
      "  warnings.warn(\n"
     ]
    },
    {
     "name": "stdout",
     "output_type": "stream",
     "text": [
      "Epoch 1 완료! 평균 Loss: 312.6515\n"
     ]
    },
    {
     "data": {
      "application/vnd.jupyter.widget-view+json": {
       "model_id": "61b2f063df5c4349a3af9fc69f00123f",
       "version_major": 2,
       "version_minor": 0
      },
      "text/plain": [
       "Epoch 2:   0%|          | 0/276 [00:00<?, ?it/s]"
      ]
     },
     "metadata": {},
     "output_type": "display_data"
    },
    {
     "name": "stdout",
     "output_type": "stream",
     "text": [
      "Epoch 2 완료! 평균 Loss: 312.6848\n"
     ]
    },
    {
     "data": {
      "application/vnd.jupyter.widget-view+json": {
       "model_id": "cb5cffecc2fd46eba2fe4f21865fa6d0",
       "version_major": 2,
       "version_minor": 0
      },
      "text/plain": [
       "Epoch 3:   0%|          | 0/276 [00:00<?, ?it/s]"
      ]
     },
     "metadata": {},
     "output_type": "display_data"
    },
    {
     "name": "stdout",
     "output_type": "stream",
     "text": [
      "Epoch 3 완료! 평균 Loss: 312.6713\n"
     ]
    },
    {
     "data": {
      "application/vnd.jupyter.widget-view+json": {
       "model_id": "397cc83a4a9e4650ab05600ad2bdc8ea",
       "version_major": 2,
       "version_minor": 0
      },
      "text/plain": [
       "Epoch 4:   0%|          | 0/276 [00:00<?, ?it/s]"
      ]
     },
     "metadata": {},
     "output_type": "display_data"
    },
    {
     "name": "stdout",
     "output_type": "stream",
     "text": [
      "Epoch 4 완료! 평균 Loss: 312.6470\n"
     ]
    },
    {
     "data": {
      "application/vnd.jupyter.widget-view+json": {
       "model_id": "8379aba33400495a81ff2a217203a405",
       "version_major": 2,
       "version_minor": 0
      },
      "text/plain": [
       "Epoch 5:   0%|          | 0/276 [00:00<?, ?it/s]"
      ]
     },
     "metadata": {},
     "output_type": "display_data"
    },
    {
     "name": "stdout",
     "output_type": "stream",
     "text": [
      "Epoch 5 완료! 평균 Loss: 312.6400\n"
     ]
    },
    {
     "data": {
      "application/vnd.jupyter.widget-view+json": {
       "model_id": "ccdbd9f203f9432eaefd45406e1c9565",
       "version_major": 2,
       "version_minor": 0
      },
      "text/plain": [
       "Epoch 6:   0%|          | 0/276 [00:00<?, ?it/s]"
      ]
     },
     "metadata": {},
     "output_type": "display_data"
    },
    {
     "name": "stdout",
     "output_type": "stream",
     "text": [
      "Epoch 6 완료! 평균 Loss: 312.7082\n"
     ]
    },
    {
     "data": {
      "application/vnd.jupyter.widget-view+json": {
       "model_id": "18065a7a46fd456c866aaa50683fac23",
       "version_major": 2,
       "version_minor": 0
      },
      "text/plain": [
       "Epoch 7:   0%|          | 0/276 [00:00<?, ?it/s]"
      ]
     },
     "metadata": {},
     "output_type": "display_data"
    },
    {
     "name": "stdout",
     "output_type": "stream",
     "text": [
      "Epoch 7 완료! 평균 Loss: 312.6543\n"
     ]
    },
    {
     "data": {
      "application/vnd.jupyter.widget-view+json": {
       "model_id": "ca3ac8723ed641238e57441f26f397e5",
       "version_major": 2,
       "version_minor": 0
      },
      "text/plain": [
       "Epoch 8:   0%|          | 0/276 [00:00<?, ?it/s]"
      ]
     },
     "metadata": {},
     "output_type": "display_data"
    },
    {
     "name": "stdout",
     "output_type": "stream",
     "text": [
      "Epoch 8 완료! 평균 Loss: 312.7080\n"
     ]
    },
    {
     "data": {
      "application/vnd.jupyter.widget-view+json": {
       "model_id": "9e5acfe9505941dcbcbf32b179f59518",
       "version_major": 2,
       "version_minor": 0
      },
      "text/plain": [
       "Epoch 9:   0%|          | 0/276 [00:00<?, ?it/s]"
      ]
     },
     "metadata": {},
     "output_type": "display_data"
    },
    {
     "name": "stdout",
     "output_type": "stream",
     "text": [
      "Epoch 9 완료! 평균 Loss: 312.6758\n"
     ]
    },
    {
     "data": {
      "application/vnd.jupyter.widget-view+json": {
       "model_id": "1f6c5299b0ae4e7b9e0411ff099b58e7",
       "version_major": 2,
       "version_minor": 0
      },
      "text/plain": [
       "Epoch 10:   0%|          | 0/276 [00:00<?, ?it/s]"
      ]
     },
     "metadata": {},
     "output_type": "display_data"
    },
    {
     "name": "stdout",
     "output_type": "stream",
     "text": [
      "Epoch 10 완료! 평균 Loss: 312.6820\n"
     ]
    },
    {
     "data": {
      "application/vnd.jupyter.widget-view+json": {
       "model_id": "dabe1fbefdaa4ca7bce163b20d38501f",
       "version_major": 2,
       "version_minor": 0
      },
      "text/plain": [
       "Epoch 11:   0%|          | 0/276 [00:00<?, ?it/s]"
      ]
     },
     "metadata": {},
     "output_type": "display_data"
    },
    {
     "name": "stdout",
     "output_type": "stream",
     "text": [
      "Epoch 11 완료! 평균 Loss: 312.7040\n"
     ]
    },
    {
     "data": {
      "application/vnd.jupyter.widget-view+json": {
       "model_id": "ab92fafd57c84ac1a7aa7ed8aa5f2178",
       "version_major": 2,
       "version_minor": 0
      },
      "text/plain": [
       "Epoch 12:   0%|          | 0/276 [00:00<?, ?it/s]"
      ]
     },
     "metadata": {},
     "output_type": "display_data"
    },
    {
     "name": "stdout",
     "output_type": "stream",
     "text": [
      "Epoch 12 완료! 평균 Loss: 312.6313\n"
     ]
    },
    {
     "data": {
      "application/vnd.jupyter.widget-view+json": {
       "model_id": "0fab235c0fee45118f268da884357685",
       "version_major": 2,
       "version_minor": 0
      },
      "text/plain": [
       "Epoch 13:   0%|          | 0/276 [00:00<?, ?it/s]"
      ]
     },
     "metadata": {},
     "output_type": "display_data"
    },
    {
     "name": "stdout",
     "output_type": "stream",
     "text": [
      "Epoch 13 완료! 평균 Loss: 312.6487\n"
     ]
    },
    {
     "data": {
      "application/vnd.jupyter.widget-view+json": {
       "model_id": "67463575740f4a87a918cd8c46f84fa5",
       "version_major": 2,
       "version_minor": 0
      },
      "text/plain": [
       "Epoch 14:   0%|          | 0/276 [00:00<?, ?it/s]"
      ]
     },
     "metadata": {},
     "output_type": "display_data"
    },
    {
     "name": "stdout",
     "output_type": "stream",
     "text": [
      "Epoch 14 완료! 평균 Loss: 312.6929\n"
     ]
    },
    {
     "data": {
      "application/vnd.jupyter.widget-view+json": {
       "model_id": "4543fae212c34d5c9fab66074c1237bc",
       "version_major": 2,
       "version_minor": 0
      },
      "text/plain": [
       "Epoch 15:   0%|          | 0/276 [00:00<?, ?it/s]"
      ]
     },
     "metadata": {},
     "output_type": "display_data"
    },
    {
     "name": "stdout",
     "output_type": "stream",
     "text": [
      "Epoch 15 완료! 평균 Loss: 312.6900\n"
     ]
    },
    {
     "data": {
      "image/png": "[encoded data removed]",
      "text/plain": [
       "<Figure size 800x500 with 1 Axes>"
      ]
     },
     "metadata": {},
     "output_type": "display_data"
    },
    {
     "name": "stdout",
     "output_type": "stream",
     "text": [
      "\n",
      "답변 결과:\n",
      "\n",
      "입력: 지루하다, 놀러가고 싶어.\n",
      "답변: \n"
     ]
    },
    {
     "data": {
      "image/png": "[encoded data removed]",
      "text/plain": [
       "<Figure size 1000x800 with 2 Axes>"
      ]
     },
     "metadata": {},
     "output_type": "display_data"
    },
    {
     "name": "stdout",
     "output_type": "stream",
     "text": [
      "\n",
      "입력: 오늘 일찍 일어났더니 피곤하다.\n",
      "답변: \n"
     ]
    },
    {
     "data": {
      "image/png": "[encoded data removed]",
      "text/plain": [
       "<Figure size 1000x800 with 2 Axes>"
      ]
     },
     "metadata": {},
     "output_type": "display_data"
    },
    {
     "name": "stdout",
     "output_type": "stream",
     "text": [
      "\n",
      "입력: 간만에 여자친구랑 데이트 하기로 했어.\n",
      "답변: \n"
     ]
    },
    {
     "data": {
      "image/png": "[encoded data removed]",
      "text/plain": [
       "<Figure size 1000x800 with 2 Axes>"
      ]
     },
     "metadata": {},
     "output_type": "display_data"
    },
    {
     "name": "stdout",
     "output_type": "stream",
     "text": [
      "\n",
      "입력: 집에 있는다는 소리야.\n",
      "답변: \n"
     ]
    },
    {
     "data": {
      "image/png": "[encoded data removed]",
      "text/plain": [
       "<Figure size 1000x800 with 2 Axes>"
      ]
     },
     "metadata": {},
     "output_type": "display_data"
    }
   ],
   "source": [
    "# 한글 지원 폰트 설정 (맥북 기준)\n",
    "plt.rcParams[\"font.family\"] = \"Apple SD Gothic Neo\"\n",
    "# 만약 다른 한글 폰트를 사용하려면 아래와 같이 설정하세요.\n",
    "# plt.rcParams[\"font.family\"] = \"NanumGothic\"\n",
    "\n",
    "#############################################\n",
    "# Padding 및 Look-Ahead Mask 생성 함수\n",
    "#############################################\n",
    "def create_padding_mask(seq):\n",
    "    # seq: (batch, seq_len)\n",
    "    # 반환: (batch, seq_len) - key_padding_mask에 그대로 사용\n",
    "    return (seq == 0)\n",
    "\n",
    "def create_look_ahead_mask(size):\n",
    "    # size: target sequence 길이\n",
    "    mask = torch.triu(torch.ones((size, size)), diagonal=1)\n",
    "    mask = mask.masked_fill(mask == 1, float('-inf'))\n",
    "    return mask\n",
    "\n",
    "def generate_masks(src, tgt):\n",
    "    \"\"\"\n",
    "    src: (batch, src_seq_len)\n",
    "    tgt: (batch, tgt_seq_len)\n",
    "    \n",
    "    반환:\n",
    "    - src_key_padding_mask: (batch, src_seq_len)\n",
    "    - tgt_key_padding_mask: (batch, tgt_seq_len)\n",
    "    - dec_mask: (tgt_seq_len, tgt_seq_len) (look-ahead mask)\n",
    "    \"\"\"\n",
    "    src_key_padding_mask = create_padding_mask(src)\n",
    "    tgt_key_padding_mask = create_padding_mask(tgt)\n",
    "    # 생성된 룩어헤드 mask를 tgt와 동일한 device로 이동\n",
    "    dec_mask = create_look_ahead_mask(tgt.size(1)).to(tgt.device)\n",
    "    return src_key_padding_mask, tgt_key_padding_mask, dec_mask\n",
    "\n",
    "#############################################\n",
    "# Transformer 모델 인스턴스 생성\n",
    "#############################################\n",
    "# SRC_VOCAB_SIZE, TGT_VOCAB_SIZE, device, TransformerWithAttn 등은 이미 정의되어 있다고 가정합니다.\n",
    "transformer = TransformerWithAttn(\n",
    "    num_layers=2,\n",
    "    d_model=512,\n",
    "    num_heads=8,\n",
    "    dff=2048,\n",
    "    input_vocab_size=SRC_VOCAB_SIZE,\n",
    "    target_vocab_size=TGT_VOCAB_SIZE,\n",
    "    dropout=0.1\n",
    ").to(device)\n",
    "\n",
    "# 옵티마이저 설정\n",
    "optimizer = torch.optim.AdamW(\n",
    "    transformer.parameters(), lr=0, betas=(0.9, 0.98), eps=1e-9, weight_decay=0.01\n",
    ")\n",
    "\n",
    "#############################################\n",
    "# 답변 생성 및 Attention 반환 함수\n",
    "#############################################\n",
    "def generate_answer(sentence, model, src_tokenizer, tgt_tokenizer, max_length=50):\n",
    "    model.eval()\n",
    "    tokens = src_tokenizer.encode(sentence)\n",
    "    src_tensor = torch.LongTensor(tokens).unsqueeze(0).to(device)\n",
    "    \n",
    "    tgt_tokens = [tgt_tokenizer.bos_id()]\n",
    "    attention_weights_list = []\n",
    "    \n",
    "    vocab_size = tgt_tokenizer.GetPieceSize()  # 또는 tgt_tokenizer.vocab_size() 등, 사용 중인 토크나이저 API에 맞게 수정\n",
    "    \n",
    "    for _ in range(max_length):\n",
    "        tgt_tensor = torch.LongTensor(tgt_tokens).unsqueeze(0).to(device)\n",
    "        outputs, enc_attn, dec_attn, enc_dec_attn = model(src_tensor, tgt_tensor)\n",
    "        final_output = outputs[0]\n",
    "        \n",
    "        # 마지막 토큰의 예측 결과를 가져옴 (1차원 tensor에서 마지막 요소 선택)\n",
    "        next_token = final_output.argmax(dim=-1)[-1].item()\n",
    "        \n",
    "        # 예측된 토큰 ID가 유효한지 확인 (어휘 범위 내인지)\n",
    "        if next_token < 0 or next_token >= vocab_size:\n",
    "            next_token = tgt_tokenizer.eos_id()\n",
    "        \n",
    "        tgt_tokens.append(next_token)\n",
    "        \n",
    "        # 마지막 디코더 레이어의 인코더-디코더 Attention weight 저장\n",
    "        attention_weights_list.append(enc_dec_attn[-1].squeeze(0).detach().cpu().numpy())\n",
    "        \n",
    "        if next_token == tgt_tokenizer.eos_id():\n",
    "            break\n",
    "            \n",
    "    answer = tgt_tokenizer.decode(tgt_tokens)\n",
    "    return answer, attention_weights_list\n",
    "\n",
    "#############################################\n",
    "# Attention 시각화 함수\n",
    "#############################################\n",
    "def plot_attention(attention, sentence, answer):\n",
    "    fig, ax = plt.subplots(figsize=(10, 8))\n",
    "    ax.set_title(\"Attention Weights\")\n",
    "    \n",
    "    sentence_tokens = sentence.split()\n",
    "    answer_tokens = answer.split()\n",
    "    \n",
    "    sns.heatmap(attention, cmap=\"viridis\", xticklabels=sentence_tokens, yticklabels=answer_tokens)\n",
    "    plt.xlabel(\"Input Sentence\")\n",
    "    plt.ylabel(\"Generated Answer\")\n",
    "    plt.show()\n",
    "\n",
    "#############################################\n",
    "# 학습 스텝 함수 (mask 수정 적용)\n",
    "#############################################\n",
    "def train_step(src, tgt, model, optimizer, criterion):\n",
    "    model.train()  # 모델을 학습 모드로 전환\n",
    "    src, tgt = src.to(device), tgt.to(device)\n",
    "    \n",
    "    # <BOS> 토큰을 제외한 입력 및 정답 생성\n",
    "    tgt_input = tgt[:, :-1]\n",
    "    gold = tgt[:, 1:].reshape(-1)\n",
    "    \n",
    "    # mask 생성: encoder와 decoder에 각각 key_padding_mask, decoder는 look-ahead mask (attn_mask)\n",
    "    src_key_padding_mask, tgt_key_padding_mask, dec_mask = generate_masks(src, tgt_input)\n",
    "    \n",
    "    optimizer.zero_grad()\n",
    "    # model.forward의 인자에 맞게 keyword로 전달합니다.\n",
    "    predictions, _, _, _ = model(\n",
    "        src, \n",
    "        tgt_input, \n",
    "        tgt_mask=dec_mask, \n",
    "        src_key_padding_mask=src_key_padding_mask, \n",
    "        tgt_key_padding_mask=tgt_key_padding_mask, \n",
    "        memory_key_padding_mask=src_key_padding_mask\n",
    "    )\n",
    "    \n",
    "    loss = criterion(predictions.view(-1, predictions.shape[-1]), gold)\n",
    "    loss.backward()\n",
    "    optimizer.step()\n",
    "    \n",
    "    return loss.item()\n",
    "\n",
    "#############################################\n",
    "# 학습 루프 및 관련 설정\n",
    "#############################################\n",
    "BATCH_SIZE = 128\n",
    "EPOCHS = 15\n",
    "loss_history = []\n",
    "\n",
    "def pad_sequences(sequences, pad_value=0, max_length=None):\n",
    "    if max_length is None:\n",
    "        max_length = max(len(seq) for seq in sequences)\n",
    "    padded_sequences = []\n",
    "    for seq in sequences:\n",
    "        padded_seq = seq + [pad_value] * (max_length - len(seq))\n",
    "        padded_sequences.append(padded_seq)\n",
    "    return padded_sequences\n",
    "\n",
    "# 학습 루프 내에서 배치 단위 처리 예시:\n",
    "for epoch in range(EPOCHS):\n",
    "    total_loss = 0\n",
    "    idx_list = list(range(0, len(enc_train), BATCH_SIZE))\n",
    "    random.shuffle(idx_list)\n",
    "    t = tqdm(idx_list, desc=f'Epoch {epoch + 1}')\n",
    "    \n",
    "    for batch, idx in enumerate(t):\n",
    "        batch_src = enc_train[idx:idx+BATCH_SIZE]\n",
    "        batch_tgt = dec_train[idx:idx+BATCH_SIZE]\n",
    "        \n",
    "        # 패딩 처리 (pad_value는 보통 <pad> 토큰의 인덱스, 여기서는 0으로 가정)\n",
    "        batch_src = pad_sequences(batch_src, pad_value=0)\n",
    "        batch_tgt = pad_sequences(batch_tgt, pad_value=0)\n",
    "        \n",
    "        batch_src = torch.tensor(batch_src, dtype=torch.long).to(device)\n",
    "        batch_tgt = torch.tensor(batch_tgt, dtype=torch.long).to(device)\n",
    "        \n",
    "        batch_loss = train_step(batch_src, batch_tgt, transformer, optimizer, criterion)\n",
    "        total_loss += batch_loss\n",
    "        t.set_postfix(loss=total_loss / (batch + 1))\n",
    "    \n",
    "    avg_loss = total_loss / len(idx_list)\n",
    "    loss_history.append(avg_loss)\n",
    "    print(f\"Epoch {epoch+1} 완료! 평균 Loss: {avg_loss:.4f}\")\n",
    "\n",
    "#############################################\n",
    "# Loss 그래프 시각화 함수\n",
    "#############################################\n",
    "def plot_loss(loss_history):\n",
    "    plt.figure(figsize=(8, 5))\n",
    "    plt.plot(loss_history, marker=\"o\", linestyle=\"-\")\n",
    "    plt.xlabel(\"Epoch\")\n",
    "    plt.ylabel(\"Loss\")\n",
    "    plt.title(\"Training Loss Over Epochs\")\n",
    "    plt.grid(True)\n",
    "    plt.show()\n",
    "\n",
    "# 학습 후 Loss 그래프 출력\n",
    "plot_loss(loss_history)\n",
    "\n",
    "#############################################\n",
    "# 예문 답변 및 Attention 시각화\n",
    "#############################################\n",
    "examples = [\n",
    "    \"지루하다, 놀러가고 싶어.\",\n",
    "    \"오늘 일찍 일어났더니 피곤하다.\",\n",
    "    \"간만에 여자친구랑 데이트 하기로 했어.\",\n",
    "    \"집에 있는다는 소리야.\"\n",
    "]\n",
    "\n",
    "print(\"\\n답변 결과:\")\n",
    "for example in examples:\n",
    "    answer, attention_weights_list = generate_answer(example, transformer, ko_tokenizer, en_tokenizer)\n",
    "    print(f\"\\n입력: {example}\")\n",
    "    print(f\"답변: {answer}\")\n",
    "    plot_attention(attention_weights_list[-1], example, answer)"
   ]
  },
  {
   "cell_type": "markdown",
   "metadata": {},
   "source": [
    "- 이 Heatmap은 ‘출력 토큰별로 입력 토큰에 얼마나 집중했는지’를 시각적으로 표현한 것이며, 각 셀(cell)의 색이 짙거나 밝은 정도를 통해 “이 출력 토큰을 생성할 때, 어떤 입력 토큰에 중요한 비중을 두었는가?”를 파악할 수 있음."
   ]
  },
  {
   "cell_type": "markdown",
   "metadata": {},
   "source": [
    "---"
   ]
  },
  {
   "cell_type": "markdown",
   "metadata": {},
   "source": [
    "## 회고"
   ]
  },
  {
   "cell_type": "markdown",
   "metadata": {},
   "source": [
    "- 이미지가 보여주는 Attention 시각화 결과와 최종 답변을 보면, 모델이 실제로 유의미한 응답을 생성하지 못하고 있는 것으로 보임.\n",
    "    - 학습 데이터 및 학습 과정 문제\n",
    "    - 토크나이저 설정 및 어휘 사전 문제\n",
    "    - 추론 방식(디코딩 전략) 문제\n",
    "\n",
    "\n",
    "- 위 3가지가 유력한 문제사항이라고 추측하고 있음. "
   ]
  }
 ],
 "metadata": {
  "kernelspec": {
   "display_name": "Python 3",
   "language": "python",
   "name": "python3"
  },
  "language_info": {
   "codemirror_mode": {
    "name": "ipython",
    "version": 3
   },
   "file_extension": ".py",
   "mimetype": "text/x-python",
   "name": "python",
   "nbconvert_exporter": "python",
   "pygments_lexer": "ipython3",
   "version": "3.10.11"
  }
 },
 "nbformat": 4,
 "nbformat_minor": 2
}
